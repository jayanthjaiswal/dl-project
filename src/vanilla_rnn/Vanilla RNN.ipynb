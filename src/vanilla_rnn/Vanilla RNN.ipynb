{
 "cells": [
  {
   "cell_type": "code",
   "execution_count": 1,
   "metadata": {},
   "outputs": [],
   "source": [
    "EEG_channels = 22 #from project guidelines\n",
    "test_count = 50 #from project guideline, 238 for train-validation and 50 for test\n",
    "validation_count = 38 # 38 points in validation set and remaining 200 points in test set"
   ]
  },
  {
   "cell_type": "code",
   "execution_count": 2,
   "metadata": {},
   "outputs": [],
   "source": [
    "from includes import *\n",
    "\n",
    "#################### \"includes\" imports:\n",
    "#\n",
    "#   from read_data import *\n",
    "#   \n",
    "#   import torch\n",
    "#   from torch.autograd import Variable\n",
    "#   import torch.nn as nn\n",
    "#   import torch.optim as optim\n",
    "#\n",
    "#   dtype = torch.cuda.FloatTensor # torch.FloatTensor\n",
    "#\n",
    "#   all_files = [h5py.File(m, 'r') for m in mat_names]\n",
    "#   all_ims = [f['image'] for f in all_files]\n",
    "#   all_types = [f['type'] for f in all_files]\n",
    "#\n",
    "####################\n",
    "%load_ext autoreload\n",
    "%autoreload 2"
   ]
  },
  {
   "cell_type": "code",
   "execution_count": 3,
   "metadata": {},
   "outputs": [
    {
     "name": "stdout",
     "output_type": "stream",
     "text": [
      "(288, 25, 1000)\n"
     ]
    }
   ],
   "source": [
    "image_mat = all_ims[0]\n",
    "image_shape = image_mat.shape # 288 (48x6) trials across 25 electrodes for 1000 time points (250Hz*4s)\n",
    "print image_shape"
   ]
  },
  {
   "cell_type": "code",
   "execution_count": 4,
   "metadata": {},
   "outputs": [
    {
     "name": "stdout",
     "output_type": "stream",
     "text": [
      "['./project_datasets/A01T_slice.mat', './project_datasets/A02T_slice.mat', './project_datasets/A03T_slice.mat', './project_datasets/A04T_slice.mat', './project_datasets/A05T_slice.mat', './project_datasets/A06T_slice.mat', './project_datasets/A07T_slice.mat', './project_datasets/A08T_slice.mat', './project_datasets/A09T_slice.mat']\n"
     ]
    }
   ],
   "source": [
    "print(mat_names)"
   ]
  },
  {
   "cell_type": "code",
   "execution_count": 5,
   "metadata": {},
   "outputs": [],
   "source": [
    "#setting seed\n",
    "np.random.seed(seed=1337)\n",
    "test_picked = np.random.choice(image_shape[0], test_count, replace=False)\n",
    "train_val_picked = np.setdiff1d(np.arange(image_shape[0]), test_picked)\n",
    "val_picked = train_val_picked[:validation_count]\n",
    "train_picked = train_val_picked[validation_count:]"
   ]
  },
  {
   "cell_type": "code",
   "execution_count": 6,
   "metadata": {},
   "outputs": [],
   "source": [
    "type_mat = all_types[0]\n",
    "type_shape = type_mat.shape\n",
    "type_set = list(set(type_mat[0,:]))\n",
    "\n",
    "# all the 0's occur after 288, and are meaningless I think\n",
    "# so the image_mat, which has shape (288, 25, 1000) should correspond\n",
    "# to the first 288 entries of type_mat, so\n",
    "# for a single subject, training data should be image_mat, with 288 samples, each sample has shape (25, 1000)\n",
    "# and our target label matrix should be type_mat[:288] (or 287?)"
   ]
  },
  {
   "cell_type": "code",
   "execution_count": 7,
   "metadata": {},
   "outputs": [],
   "source": [
    "trainval_data_X = []\n",
    "training_data_X = []\n",
    "validation_data_X = []\n",
    "test_data_X = []\n",
    "\n",
    "trainval_data_Y = []\n",
    "training_data_Y = []\n",
    "validation_data_Y = []\n",
    "test_data_Y = []\n",
    "\n",
    "for i in range(len(mat_names)):\n",
    "    matfile = h5py.File(mat_names[i], 'r')\n",
    "    \n",
    "    trainval_data_X.append(matfile['image'][sorted(train_val_picked),:EEG_channels,:]) #(238, 22, 1000) x 9\n",
    "    training_data_X.append(matfile['image'][sorted(train_picked),:EEG_channels,:]) #(200, 22, 1000) x 9\n",
    "    validation_data_X.append(matfile['image'][sorted(val_picked),:EEG_channels,:]) #(38, 22, 1000) x 9\n",
    "    test_data_X.append(matfile['image'][sorted(test_picked),:EEG_channels,:]) #(50, 22, 1000) x 9\n",
    "    \n",
    "    trainval_data_Y.append(matfile['type'][0,sorted(train_val_picked)] - type_set[1]) #(238, ) x 9\n",
    "    training_data_Y.append(matfile['type'][0,sorted(train_picked)] - type_set[1]) #(200, ) x 9\n",
    "    validation_data_Y.append(matfile['type'][0,sorted(val_picked)] - type_set[1]) #(38, ) x 9\n",
    "    test_data_Y.append(matfile['type'][0,sorted(test_picked)] - type_set[1]) #(50, ) x 9"
   ]
  },
  {
   "cell_type": "code",
   "execution_count": 8,
   "metadata": {},
   "outputs": [],
   "source": [
    "for i in range(len(mat_names)):\n",
    "    assert(set(training_data_Y[i]) == set(validation_data_Y[i])) #check whether we have data for all labels \n",
    "    assert(set(training_data_Y[i]) == set(test_data_Y[i])) #check whether we have data for all labels "
   ]
  },
  {
   "cell_type": "code",
   "execution_count": 9,
   "metadata": {},
   "outputs": [
    {
     "name": "stdout",
     "output_type": "stream",
     "text": [
      "before nans: (2142, 22, 1000)\n",
      "before nans: (2115, 22, 1000)\n",
      "before nans: (1800, 22, 1000)\n",
      "before nans: (1775, 22, 1000)\n",
      "before nans: (342, 22, 1000)\n",
      "before nans: (340, 22, 1000)\n",
      "before nans: (450, 22, 1000)\n",
      "before nans: (443, 22, 1000)\n"
     ]
    }
   ],
   "source": [
    "from functools import reduce\n",
    "\n",
    "rnn_trainval_data_X = np.concatenate(trainval_data_X, axis=0) #(2142, 22, 1000)\n",
    "rnn_training_data_X = np.concatenate(training_data_X, axis=0) #(1800, 22, 1000)\n",
    "rnn_validation_data_X = np.concatenate(validation_data_X, axis=0) #(342, 22, 1000)\n",
    "rnn_test_data_X = np.concatenate(test_data_X, axis=0) #(450, 22, 1000)\n",
    "\n",
    "rnn_trainval_data_Y = np.concatenate(trainval_data_Y, axis=0) #(2142, )\n",
    "rnn_training_data_Y = np.concatenate(training_data_Y, axis=0) #(1800, )\n",
    "rnn_validation_data_Y = np.concatenate(validation_data_Y, axis=0) #(342, )\n",
    "rnn_test_data_Y = np.concatenate(test_data_Y, axis=0) #(450,)\n",
    "\n",
    "def remove_nan_rows_A(A, b, debug=True):\n",
    "    if (debug):\n",
    "        print('before nans: {}'.format(str(A.shape)))\n",
    "    if (np.isnan(A).any() or np.isnan(b).any()):\n",
    "        mask = ~np.isnan(np.sum(A,axis=(1,2))) & ~np.isnan(b[:])\n",
    "        A = A[mask, :, :]\n",
    "        b = b[mask]\n",
    "    \n",
    "    if (debug):\n",
    "        print('before nans: {}'.format(str(A.shape)))\n",
    "    assert A.shape[0] == b.shape[0]\n",
    "    return A, b\n",
    "\n",
    "rnn_trainval_data_X, rnn_trainval_data_Y = remove_nan_rows_A(rnn_trainval_data_X,\n",
    "                                                             rnn_trainval_data_Y)\n",
    "rnn_training_data_X, rnn_training_data_Y = remove_nan_rows_A(rnn_training_data_X, \n",
    "                                                             rnn_training_data_Y)\n",
    "rnn_validation_data_X, rnn_validation_data_Y = remove_nan_rows_A(rnn_validation_data_X,\n",
    "                                         rnn_validation_data_Y)\n",
    "rnn_test_data_X, rnn_test_data_Y = remove_nan_rows_A(rnn_test_data_X,\n",
    "                                   rnn_test_data_Y)\n",
    "\n",
    "N_trainval, E, T = rnn_trainval_data_X.shape\n",
    "N_training, _, _ = rnn_trainval_data_X.shape\n",
    "N_validation, _, _ = rnn_test_data_X.shape\n",
    "N_test, _, _ = rnn_test_data_X.shape"
   ]
  },
  {
   "cell_type": "code",
   "execution_count": 10,
   "metadata": {},
   "outputs": [
    {
     "name": "stdout",
     "output_type": "stream",
     "text": [
      "(200,)\n"
     ]
    }
   ],
   "source": [
    "print(training_data_Y[0].shape)"
   ]
  },
  {
   "cell_type": "code",
   "execution_count": 11,
   "metadata": {},
   "outputs": [
    {
     "name": "stdout",
     "output_type": "stream",
     "text": [
      "(200, 22, 1000)\n"
     ]
    }
   ],
   "source": [
    "training_data_shape = training_data_X[0].shape\n",
    "print(training_data_shape) #(200, 22, 1000) while test data shape is (50, 22, 1000) and validation data is (38, 22,1000)"
   ]
  },
  {
   "cell_type": "code",
   "execution_count": 12,
   "metadata": {},
   "outputs": [
    {
     "name": "stdout",
     "output_type": "stream",
     "text": [
      "(2115, 22, 1000)\n",
      "(2115,)\n"
     ]
    }
   ],
   "source": [
    "print rnn_trainval_data_X.shape\n",
    "print rnn_trainval_data_Y.shape"
   ]
  },
  {
   "cell_type": "code",
   "execution_count": 13,
   "metadata": {},
   "outputs": [],
   "source": [
    "from torch.nn.utils.rnn import pack_padded_sequence as ppseq"
   ]
  },
  {
   "cell_type": "code",
   "execution_count": 14,
   "metadata": {},
   "outputs": [
    {
     "name": "stdout",
     "output_type": "stream",
     "text": [
      "torch.Size([1775, 22, 1000])\n",
      "torch.Size([1775])\n"
     ]
    }
   ],
   "source": [
    "tensor_x_train = torch.Tensor(rnn_training_data_X)\n",
    "tensor_y_train = torch.LongTensor(rnn_training_data_Y)\n",
    "\n",
    "print tensor_x_train.shape\n",
    "print tensor_y_train.shape\n",
    "\n",
    "tensor_x_val = torch.Tensor(rnn_validation_data_X)\n",
    "tensor_y_val = torch.LongTensor(rnn_validation_data_Y)"
   ]
  },
  {
   "cell_type": "code",
   "execution_count": 15,
   "metadata": {},
   "outputs": [],
   "source": [
    "import torch.utils.data"
   ]
  },
  {
   "cell_type": "code",
   "execution_count": 16,
   "metadata": {},
   "outputs": [],
   "source": [
    "# Dataset Hyper Parameters\n",
    "num_epochs = 20\n",
    "batch_size = 100"
   ]
  },
  {
   "cell_type": "code",
   "execution_count": 17,
   "metadata": {},
   "outputs": [],
   "source": [
    "train_dataset = torch.utils.data.TensorDataset(tensor_x_train,tensor_y_train)\n",
    "val_dataset = torch.utils.data.TensorDataset(tensor_x_val,tensor_y_val)\n",
    "\n",
    "train_loader = torch.utils.data.DataLoader(dataset=train_dataset,\n",
    "                                           batch_size=batch_size, \n",
    "                                           shuffle=True)\n",
    "\n",
    "val_loader = torch.utils.data.DataLoader(dataset=val_dataset,\n",
    "                                          batch_size=batch_size, \n",
    "                                          shuffle=False)"
   ]
  },
  {
   "cell_type": "code",
   "execution_count": 29,
   "metadata": {},
   "outputs": [
    {
     "name": "stdout",
     "output_type": "stream",
     "text": [
      "torch.Size([22])\n",
      "torch.Size([22])\n",
      "torch.Size([44, 1, 25])\n",
      "torch.Size([44])\n",
      "torch.Size([30, 44, 3])\n",
      "torch.Size([30])\n",
      "torch.Size([32, 30])\n",
      "torch.Size([32, 32])\n",
      "torch.Size([32])\n",
      "torch.Size([32])\n",
      "torch.Size([32, 32])\n",
      "torch.Size([32, 32])\n",
      "torch.Size([32])\n",
      "torch.Size([32])\n",
      "torch.Size([64])\n",
      "torch.Size([64])\n",
      "torch.Size([4, 64])\n",
      "torch.Size([4])\n"
     ]
    }
   ],
   "source": [
    "# Optimizer Hyper Parameters\n",
    "learning_rate = 1e-3\n",
    "reg_hidden_weight = 1.0\n",
    "reg_weight_size = 0.01\n",
    "NUM_CLASSES = 4\n",
    "\n",
    "# Debug Parameters\n",
    "VERBOSE = False\n",
    "PRINT_GRADS = False\n",
    "\n",
    "from VanillaRNN import VanillaRNN\n",
    "\n",
    "net = VanillaRNN(\n",
    "                conv_layers = True,\n",
    "                initial_hidden_layer_sizes = [],#[100],#[100],\n",
    "                recurrent_hidden_size = 32,\n",
    "                recurrent_use_bias = True,\n",
    "                recurrent_layer_num = 2,\n",
    "                #recurrent_dropout = 0.5,\n",
    "                final_hidden_layer_sizes = [],#[100, 10],\n",
    "                num_classes=NUM_CLASSES,\n",
    "                verbose = VERBOSE)\n",
    "\n",
    "FCC_SANITY = False\n",
    "\n",
    "#from FC import FC\n",
    "#net = FC()\n",
    "#FCC_SANITY = True\n",
    "\n",
    "net.initialize_weights()\n",
    "\n",
    "criterion = nn.CrossEntropyLoss()\n",
    "#optimizer = torch.optim.RMSprop(net.parameters(), lr=learning_rate)\n",
    "optimizer = torch.optim.Adam(net.parameters(), lr=learning_rate)#, weight_decay=0.01)\n",
    "\n",
    "\n",
    "#optimizer = torch.optim.SGD(net.parameters(), lr=learning_rate, momentum=0.9, nesterov=True)\n",
    "\n",
    "\n",
    "for s in net.parameters():\n",
    "    print('{}'.format(s.shape))\n",
    "    "
   ]
  },
  {
   "cell_type": "code",
   "execution_count": 27,
   "metadata": {},
   "outputs": [
    {
     "name": "stdout",
     "output_type": "stream",
     "text": [
      "torch.Size([1775, 4])\n"
     ]
    },
    {
     "data": {
      "image/png": "[encoded data removed]",
      "text/plain": [
       "<matplotlib.figure.Figure at 0x7f237c549c50>"
      ]
     },
     "metadata": {},
     "output_type": "display_data"
    },
    {
     "data": {
      "image/png": "[encoded data removed]",
      "text/plain": [
       "<matplotlib.figure.Figure at 0x7f237c549850>"
      ]
     },
     "metadata": {},
     "output_type": "display_data"
    },
    {
     "name": "stdout",
     "output_type": "stream",
     "text": [
      "torch.Size([1775, 4])\n",
      "torch.Size([1775, 64])\n"
     ]
    }
   ],
   "source": [
    "net.train(True)\n",
    "\n",
    "if (FCC_SANITY):\n",
    "    out = net.forward(tensor_x_train)\n",
    "else:\n",
    "    out, hidden = net.forward(tensor_x_train)\n",
    "print(out.shape)\n",
    "\n",
    "net.train(False)\n",
    "\n",
    "if (FCC_SANITY):\n",
    "    out = net.forward(tensor_x_train)\n",
    "else:\n",
    "    out, hidden = net.forward(tensor_x_train)\n",
    "print(out.shape)\n",
    "    \n",
    "print(net.rnn_out.shape)"
   ]
  },
  {
   "cell_type": "code",
   "execution_count": null,
   "metadata": {
    "scrolled": true
   },
   "outputs": [
    {
     "name": "stderr",
     "output_type": "stream",
     "text": [
      "/usr/local/lib/python2.7/dist-packages/ipykernel_launcher.py:63: UserWarning: invalid index of a 0-dim tensor. This will be an error in PyTorch 0.5. Use tensor.item() to convert a 0-dim tensor to a Python number\n",
      "/usr/local/lib/python2.7/dist-packages/ipykernel_launcher.py:64: UserWarning: invalid index of a 0-dim tensor. This will be an error in PyTorch 0.5. Use tensor.item() to convert a 0-dim tensor to a Python number\n",
      "/usr/local/lib/python2.7/dist-packages/ipykernel_launcher.py:65: UserWarning: invalid index of a 0-dim tensor. This will be an error in PyTorch 0.5. Use tensor.item() to convert a 0-dim tensor to a Python number\n"
     ]
    },
    {
     "name": "stdout",
     "output_type": "stream",
     "text": [
      "Epoch [1/20], Iter [1/17] Loss: [----- 1.7406 = 1.3853 + 1.00 * 0.0000 + 0.01 * 35.5345 -----]\n",
      "Epoch [1/20], Iter [2/17] Loss: [----- 1.9646 = 1.4343 + 1.00 * 0.1751 + 0.01 * 35.5244 -----]\n",
      "Epoch [1/20], Iter [3/17] Loss: [----- 2.2101 = 1.3992 + 1.00 * 0.4557 + 0.01 * 35.5140 -----]\n",
      "Epoch [1/20], Iter [4/17] Loss: [----- 1.7804 = 1.4224 + 1.00 * 0.0029 + 0.01 * 35.5057 -----]\n",
      "Epoch [1/20], Iter [5/17] Loss: [----- 1.9106 = 1.4697 + 1.00 * 0.0860 + 0.01 * 35.4959 -----]\n",
      "Epoch [1/20], Iter [6/17] Loss: [----- 2.3508 = 1.4317 + 1.00 * 0.5643 + 0.01 * 35.4851 -----]\n",
      "Epoch [1/20], Iter [7/17] Loss: [----- 8.6163 = 1.4460 + 1.00 * 6.8154 + 0.01 * 35.4764 -----]\n",
      "Epoch [1/20], Iter [8/17] Loss: [----- 1.8368 = 1.4464 + 1.00 * 0.0357 + 0.01 * 35.4683 -----]\n",
      "Epoch [1/20], Iter [9/17] Loss: [----- 2.3023 = 1.4235 + 1.00 * 0.5242 + 0.01 * 35.4574 -----]\n",
      "Epoch [1/20], Iter [10/17] Loss: [----- 1.8023 = 1.4269 + 1.00 * 0.0209 + 0.01 * 35.4472 -----]\n",
      "Epoch [1/20], Iter [11/17] Loss: [----- 1.8552 = 1.3804 + 1.00 * 0.1205 + 0.01 * 35.4378 -----]\n",
      "Epoch [1/20], Iter [12/17] Loss: [----- 2.9723 = 1.4115 + 1.00 * 1.2065 + 0.01 * 35.4287 -----]\n",
      "Epoch [1/20], Iter [13/17] Loss: [----- 2.7171 = 1.4152 + 1.00 * 0.9477 + 0.01 * 35.4202 -----]\n",
      "Epoch [1/20], Iter [14/17] Loss: [----- 4.5028 = 1.3932 + 1.00 * 2.7555 + 0.01 * 35.4129 -----]\n",
      "Epoch [1/20], Iter [15/17] Loss: [----- 1.7834 = 1.3794 + 1.00 * 0.0499 + 0.01 * 35.4060 -----]\n",
      "Epoch [1/20], Iter [16/17] Loss: [----- 1.9916 = 1.3819 + 1.00 * 0.2558 + 0.01 * 35.3989 -----]\n",
      "Epoch [1/20], Iter [17/17] Loss: [----- 1.8043 = 1.3798 + 1.00 * 0.0706 + 0.01 * 35.3926 -----]\n",
      "Epoch [1/20], Iter [18/17] Loss: [----- 1.9769 = 1.4064 + 1.00 * 0.2167 + 0.01 * 35.3855 -----]\n"
     ]
    },
    {
     "data": {
      "image/png": "[encoded data removed]",
      "text/plain": [
       "<matplotlib.figure.Figure at 0x7f23d853f310>"
      ]
     },
     "metadata": {},
     "output_type": "display_data"
    }
   ],
   "source": [
    "import gc\n",
    "gc.collect()\n",
    "\n",
    "torch.manual_seed(1111)\n",
    "\n",
    "train_acc = []\n",
    "val_acc = []\n",
    "loss_history = []\n",
    "          \n",
    "for epoch in range(num_epochs):\n",
    "\n",
    "    ######################## TRAINING\n",
    "        \n",
    "    net.train(True)\n",
    "    \n",
    "    for i, (images, labels) in enumerate(train_loader):\n",
    "        \n",
    "        images = Variable(images, requires_grad=True) #unsqueeze used to make a 4d tensor because \n",
    "        \n",
    "        if (VERBOSE):\n",
    "            print('initial label shape: {}'.format(labels.shape))\n",
    "            \n",
    "        labels = Variable(labels)\n",
    "\n",
    "        if (VERBOSE):\n",
    "            print('iteration label set {}'.format(np.unique(labels.data)))\n",
    "        \n",
    "        # Forward + Backward + Optimize\n",
    "        optimizer.zero_grad()\n",
    "        \n",
    "        if (FCC_SANITY):\n",
    "            outputs = net(images)\n",
    "        else:    \n",
    "            outputs, hidden = net(images)\n",
    "\n",
    "        _, predicted = torch.max(outputs.data, 1)\n",
    "    \n",
    "        if (VERBOSE):\n",
    "            print('training predicted set {}'.format(np.unique(predicted.data)))\n",
    "            print('training output shape: {}'.format(outputs.shape))\n",
    "            print('training labels shape: {}'.format(labels.shape))\n",
    "        \n",
    "        loss1 = criterion(outputs, labels)\n",
    "        loss1.backward(retain_graph=True)\n",
    "        \n",
    "        ## hidden state vanishing gradient regularizer\n",
    "        hidden_loss, size_loss = net.loss_regularizer()\n",
    "        \n",
    "        ## general weight l2 regularizer()\n",
    "        \n",
    "        loss = loss1 + reg_hidden_weight*hidden_loss + reg_weight_size*size_loss\n",
    "\n",
    "        #loss = criterion(outputs, labels)\n",
    "\n",
    "        loss_history.append(loss)\n",
    "        loss.backward()\n",
    "        \n",
    "        nn.utils.clip_grad_norm(net.parameters(), 100)\n",
    "        optimizer.step()\n",
    "        \n",
    "        print ('Epoch [%d/%d], Iter [%d/%d] Loss: [----- %.4f = %.4f + %.2f * %.4f + %.2f * %.4f -----]' \n",
    "               %(epoch+1, num_epochs, i+1, rnn_training_data_X.shape[0]*1.0/batch_size,\n",
    "                 loss.data[0], loss1.data[0],\n",
    "                 reg_hidden_weight, hidden_loss.data[0],\n",
    "                 reg_weight_size, size_loss.data[0]))\n",
    "    \n",
    "    ######################## PER EPOCH EVALUATION\n",
    "            \n",
    "    bad_grads = []\n",
    "    for n,p in net.named_parameters():\n",
    "        grad_max = torch.max(p.grad)\n",
    "        abs_grad_mean = torch.mean(torch.abs(p.grad))\n",
    "        if (PRINT_GRADS):\n",
    "            print('===========\\ngradient:{}'.format(n))\n",
    "            print('---------\\nmax: {}, mean: {}'.format(grad_max, abs_grad_mean))\n",
    "            \n",
    "        stats = [n, grad_max, abs_grad_mean]\n",
    "        \n",
    "        if (abs_grad_mean < 1e-4):\n",
    "            stats.append('SMALL')\n",
    "            bad_grads.append(stats)\n",
    "        elif (1 < abs_grad_mean):\n",
    "            stats.append('BIG')\n",
    "            bad_grads.append(stats)\n",
    "            \n",
    "    for n, grad_max, abs_grad_mean, descr in bad_grads:\n",
    "        print('===========\\n {} gradient:{}'.format(descr, n))\n",
    "        print('---------\\nmax: {}, mean: {}'.format(grad_max, abs_grad_mean))  \n",
    "        \n",
    "    if (VERBOSE):\n",
    "        print('weight_hh_l0:')\n",
    "        print(net.rnn_layer.state_dict()['weight_hh_l0'])\n",
    "\n",
    "    \n",
    "    net.train(False)\n",
    "    \n",
    "    images = Variable(torch.Tensor(rnn_training_data_X))\n",
    "    test_labels = torch.LongTensor(rnn_training_data_Y)\n",
    "    \n",
    "    if (FCC_SANITY):\n",
    "        outputs = net(images)\n",
    "    else:\n",
    "        outputs, hidden = net(images)\n",
    "    \n",
    "    print(outputs.shape)\n",
    "    \n",
    "    correct = 0\n",
    "    total = 0\n",
    "    _, predicted = torch.max(outputs.data, 1)\n",
    "    total += test_labels.size(0)\n",
    "    correct += (predicted == test_labels).double().sum()\n",
    "    print('Train Accuracy: %d %%' % (100 * int(correct) / float(total)))\n",
    "    train_acc.append((100 * correct / total))\n",
    "\n",
    "    net.eval()  # Change model to 'eval' mode (BN uses moving mean/var).\n",
    "    correct = 0\n",
    "    total = 0\n",
    "    images = Variable(torch.Tensor(rnn_validation_data_X))\n",
    "    test_labels = torch.LongTensor(rnn_validation_data_Y)\n",
    "    \n",
    "    if (FCC_SANITY):\n",
    "        outputs = net(images)\n",
    "    else:\n",
    "        outputs, hidden = net(images)\n",
    "    \n",
    "    _, predicted = torch.max(outputs.data, 1)\n",
    "    \n",
    "    print('predicted set {}'.format(np.unique(predicted.data)))\n",
    "    print('label set {}'.format(np.unique(test_labels.data)))\n",
    "    \n",
    "    total += test_labels.size(0)\n",
    "    correct += (predicted == test_labels).double().sum()\n",
    "    print('validation Accuracy: %d %%' % (100.0 * int(correct) / float(total)))\n",
    "    val_acc.append((100 * correct / total))"
   ]
  },
  {
   "cell_type": "code",
   "execution_count": null,
   "metadata": {},
   "outputs": [],
   "source": [
    "l = list(net.layer1.modules())\n",
    "print(l[1].running_mean)\n",
    "print(l[1].running_var)"
   ]
  }
 ],
 "metadata": {
  "kernelspec": {
   "display_name": "Python 2",
   "language": "python",
   "name": "python2"
  },
  "language_info": {
   "codemirror_mode": {
    "name": "ipython",
    "version": 2
   },
   "file_extension": ".py",
   "mimetype": "text/x-python",
   "name": "python",
   "nbconvert_exporter": "python",
   "pygments_lexer": "ipython2",
   "version": "2.7.13"
  }
 },
 "nbformat": 4,
 "nbformat_minor": 2
}
