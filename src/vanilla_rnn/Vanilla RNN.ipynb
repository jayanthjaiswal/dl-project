{
 "cells": [
  {
   "cell_type": "code",
   "execution_count": 1,
   "metadata": {},
   "outputs": [],
   "source": [
    "EEG_channels = 22 #from project guidelines\n",
    "test_count = 50 #from project guideline, 238 for train-validation and 50 for test\n",
    "validation_count = 38 # 38 points in validation set and remaining 200 points in test set"
   ]
  },
  {
   "cell_type": "code",
   "execution_count": 2,
   "metadata": {},
   "outputs": [],
   "source": [
    "from includes import *\n",
    "\n",
    "#################### \"includes\" imports:\n",
    "#\n",
    "#   from read_data import *\n",
    "#   \n",
    "#   import torch\n",
    "#   from torch.autograd import Variable\n",
    "#   import torch.nn as nn\n",
    "#   import torch.optim as optim\n",
    "#\n",
    "#   dtype = torch.cuda.FloatTensor # torch.FloatTensor\n",
    "#\n",
    "#   all_files = [h5py.File(m, 'r') for m in mat_names]\n",
    "#   all_ims = [f['image'] for f in all_files]\n",
    "#   all_types = [f['type'] for f in all_files]\n",
    "#\n",
    "####################\n",
    "%load_ext autoreload\n",
    "%autoreload 2"
   ]
  },
  {
   "cell_type": "code",
   "execution_count": 3,
   "metadata": {},
   "outputs": [
    {
     "name": "stdout",
     "output_type": "stream",
     "text": [
      "(288, 25, 1000)\n"
     ]
    }
   ],
   "source": [
    "image_mat = all_ims[0]\n",
    "image_shape = image_mat.shape # 288 (48x6) trials across 25 electrodes for 1000 time points (250Hz*4s)\n",
    "print image_shape"
   ]
  },
  {
   "cell_type": "code",
   "execution_count": 4,
   "metadata": {},
   "outputs": [
    {
     "name": "stdout",
     "output_type": "stream",
     "text": [
      "['./project_datasets/A01T_slice.mat', './project_datasets/A02T_slice.mat', './project_datasets/A03T_slice.mat', './project_datasets/A04T_slice.mat', './project_datasets/A05T_slice.mat', './project_datasets/A06T_slice.mat', './project_datasets/A07T_slice.mat', './project_datasets/A08T_slice.mat', './project_datasets/A09T_slice.mat']\n"
     ]
    }
   ],
   "source": [
    "print(mat_names)"
   ]
  },
  {
   "cell_type": "code",
   "execution_count": 5,
   "metadata": {},
   "outputs": [],
   "source": [
    "#setting seed\n",
    "np.random.seed(seed=1337)\n",
    "test_picked = np.random.choice(image_shape[0], test_count, replace=False)\n",
    "train_val_picked = np.setdiff1d(np.arange(image_shape[0]), test_picked)\n",
    "val_picked = train_val_picked[:validation_count]\n",
    "train_picked = train_val_picked[validation_count:]"
   ]
  },
  {
   "cell_type": "code",
   "execution_count": 6,
   "metadata": {},
   "outputs": [],
   "source": [
    "type_mat = all_types[0]\n",
    "type_shape = type_mat.shape\n",
    "type_set = list(set(type_mat[0,:]))\n",
    "\n",
    "# all the 0's occur after 288, and are meaningless I think\n",
    "# so the image_mat, which has shape (288, 25, 1000) should correspond\n",
    "# to the first 288 entries of type_mat, so\n",
    "# for a single subject, training data should be image_mat, with 288 samples, each sample has shape (25, 1000)\n",
    "# and our target label matrix should be type_mat[:288] (or 287?)"
   ]
  },
  {
   "cell_type": "code",
   "execution_count": 7,
   "metadata": {},
   "outputs": [],
   "source": [
    "trainval_data_X = []\n",
    "training_data_X = []\n",
    "validation_data_X = []\n",
    "test_data_X = []\n",
    "\n",
    "trainval_data_Y = []\n",
    "training_data_Y = []\n",
    "validation_data_Y = []\n",
    "test_data_Y = []\n",
    "\n",
    "for i in range(len(mat_names)):\n",
    "    matfile = h5py.File(mat_names[i], 'r')\n",
    "    \n",
    "    trainval_data_X.append(matfile['image'][sorted(train_val_picked),:EEG_channels,:]) #(238, 22, 1000) x 9\n",
    "    training_data_X.append(matfile['image'][sorted(train_picked),:EEG_channels,:]) #(200, 22, 1000) x 9\n",
    "    validation_data_X.append(matfile['image'][sorted(val_picked),:EEG_channels,:]) #(38, 22, 1000) x 9\n",
    "    test_data_X.append(matfile['image'][sorted(test_picked),:EEG_channels,:]) #(50, 22, 1000) x 9\n",
    "    \n",
    "    trainval_data_Y.append(matfile['type'][0,sorted(train_val_picked)] - type_set[1]) #(238, ) x 9\n",
    "    training_data_Y.append(matfile['type'][0,sorted(train_picked)] - type_set[1]) #(200, ) x 9\n",
    "    validation_data_Y.append(matfile['type'][0,sorted(val_picked)] - type_set[1]) #(38, ) x 9\n",
    "    test_data_Y.append(matfile['type'][0,sorted(test_picked)] - type_set[1]) #(50, ) x 9"
   ]
  },
  {
   "cell_type": "code",
   "execution_count": 8,
   "metadata": {},
   "outputs": [],
   "source": [
    "for i in range(len(mat_names)):\n",
    "    assert(set(training_data_Y[i]) == set(validation_data_Y[i])) #check whether we have data for all labels \n",
    "    assert(set(training_data_Y[i]) == set(test_data_Y[i])) #check whether we have data for all labels "
   ]
  },
  {
   "cell_type": "code",
   "execution_count": 9,
   "metadata": {},
   "outputs": [
    {
     "name": "stdout",
     "output_type": "stream",
     "text": [
      "before nans: (2142, 22, 1000)\n",
      "before nans: (2115, 22, 1000)\n",
      "before nans: (1800, 22, 1000)\n",
      "before nans: (1775, 22, 1000)\n",
      "before nans: (342, 22, 1000)\n",
      "before nans: (340, 22, 1000)\n",
      "before nans: (450, 22, 1000)\n",
      "before nans: (443, 22, 1000)\n"
     ]
    }
   ],
   "source": [
    "from functools import reduce\n",
    "\n",
    "rnn_trainval_data_X = np.concatenate(trainval_data_X, axis=0) #(2142, 22, 1000)\n",
    "rnn_training_data_X = np.concatenate(training_data_X, axis=0) #(1800, 22, 1000)\n",
    "rnn_validation_data_X = np.concatenate(validation_data_X, axis=0) #(342, 22, 1000)\n",
    "rnn_test_data_X = np.concatenate(test_data_X, axis=0) #(450, 22, 1000)\n",
    "\n",
    "rnn_trainval_data_Y = np.concatenate(trainval_data_Y, axis=0) #(2142, )\n",
    "rnn_training_data_Y = np.concatenate(training_data_Y, axis=0) #(1800, )\n",
    "rnn_validation_data_Y = np.concatenate(validation_data_Y, axis=0) #(342, )\n",
    "rnn_test_data_Y = np.concatenate(test_data_Y, axis=0) #(450,)\n",
    "\n",
    "def remove_nan_rows_A(A, b, debug=True):\n",
    "    if (debug):\n",
    "        print('before nans: {}'.format(str(A.shape)))\n",
    "    if (np.isnan(A).any() or np.isnan(b).any()):\n",
    "        mask = ~np.isnan(np.sum(A,axis=(1,2))) & ~np.isnan(b[:])\n",
    "        A = A[mask, :, :]\n",
    "        b = b[mask]\n",
    "    \n",
    "    if (debug):\n",
    "        print('before nans: {}'.format(str(A.shape)))\n",
    "    assert A.shape[0] == b.shape[0]\n",
    "    return A, b\n",
    "\n",
    "rnn_trainval_data_X, rnn_trainval_data_Y = remove_nan_rows_A(rnn_trainval_data_X,\n",
    "                                                             rnn_trainval_data_Y)\n",
    "rnn_training_data_X, rnn_training_data_Y = remove_nan_rows_A(rnn_training_data_X, \n",
    "                                                             rnn_training_data_Y)\n",
    "rnn_validation_data_X, rnn_validation_data_Y = remove_nan_rows_A(rnn_validation_data_X,\n",
    "                                         rnn_validation_data_Y)\n",
    "rnn_test_data_X, rnn_test_data_Y = remove_nan_rows_A(rnn_test_data_X,\n",
    "                                   rnn_test_data_Y)\n",
    "\n",
    "\n",
    "# repeating the Y labels for the rnn\n",
    "N_trainval, E, T = rnn_trainval_data_X.shape\n",
    "N_training, _, _ = rnn_trainval_data_X.shape\n",
    "N_validation, _, _ = rnn_test_data_X.shape\n",
    "N_test, _, _ = rnn_test_data_X.shape"
   ]
  },
  {
   "cell_type": "code",
   "execution_count": 10,
   "metadata": {},
   "outputs": [
    {
     "name": "stdout",
     "output_type": "stream",
     "text": [
      "(200,)\n"
     ]
    }
   ],
   "source": [
    "print(training_data_Y[0].shape)"
   ]
  },
  {
   "cell_type": "code",
   "execution_count": 11,
   "metadata": {},
   "outputs": [
    {
     "name": "stdout",
     "output_type": "stream",
     "text": [
      "(200, 22, 1000)\n"
     ]
    }
   ],
   "source": [
    "training_data_shape = training_data_X[0].shape\n",
    "print(training_data_shape) #(200, 22, 1000) while test data shape is (50, 22, 1000) and validation data is (38, 22,1000)"
   ]
  },
  {
   "cell_type": "code",
   "execution_count": 12,
   "metadata": {},
   "outputs": [
    {
     "name": "stdout",
     "output_type": "stream",
     "text": [
      "(2115, 22, 1000)\n",
      "(2115,)\n"
     ]
    }
   ],
   "source": [
    "print rnn_trainval_data_X.shape\n",
    "print rnn_trainval_data_Y.shape"
   ]
  },
  {
   "cell_type": "code",
   "execution_count": 13,
   "metadata": {},
   "outputs": [],
   "source": [
    "from torch.nn.utils.rnn import pack_padded_sequence as ppseq"
   ]
  },
  {
   "cell_type": "code",
   "execution_count": 14,
   "metadata": {},
   "outputs": [
    {
     "name": "stdout",
     "output_type": "stream",
     "text": [
      "torch.Size([1775, 22, 1000])\n",
      "torch.Size([1775])\n"
     ]
    }
   ],
   "source": [
    "tensor_x_train = torch.Tensor(rnn_training_data_X)\n",
    "tensor_y_train = torch.LongTensor(rnn_training_data_Y)\n",
    "\n",
    "print tensor_x_train.shape\n",
    "print tensor_y_train.shape\n",
    "\n",
    "tensor_x_val = torch.Tensor(rnn_validation_data_X)\n",
    "tensor_y_val = torch.LongTensor(rnn_validation_data_Y)"
   ]
  },
  {
   "cell_type": "code",
   "execution_count": 15,
   "metadata": {},
   "outputs": [],
   "source": [
    "import torch.utils.data"
   ]
  },
  {
   "cell_type": "code",
   "execution_count": 188,
   "metadata": {},
   "outputs": [],
   "source": [
    "# Dataset Hyper Parameters\n",
    "num_epochs = 20\n",
    "batch_size = 100"
   ]
  },
  {
   "cell_type": "code",
   "execution_count": 17,
   "metadata": {},
   "outputs": [],
   "source": [
    "train_dataset = torch.utils.data.TensorDataset(tensor_x_train,tensor_y_train)\n",
    "val_dataset = torch.utils.data.TensorDataset(tensor_x_val,tensor_y_val)\n",
    "\n",
    "train_loader = torch.utils.data.DataLoader(dataset=train_dataset,\n",
    "                                           batch_size=batch_size, \n",
    "                                           shuffle=True)\n",
    "\n",
    "val_loader = torch.utils.data.DataLoader(dataset=val_dataset,\n",
    "                                          batch_size=batch_size, \n",
    "                                          shuffle=False)"
   ]
  },
  {
   "cell_type": "code",
   "execution_count": 316,
   "metadata": {},
   "outputs": [
    {
     "name": "stdout",
     "output_type": "stream",
     "text": [
      "torch.Size([32, 22, 5])\n",
      "torch.Size([32])\n",
      "torch.Size([8, 32, 4])\n",
      "torch.Size([8])\n",
      "torch.Size([150, 8])\n",
      "torch.Size([150, 150])\n",
      "torch.Size([150])\n",
      "torch.Size([150])\n",
      "torch.Size([150, 150])\n",
      "torch.Size([150, 150])\n",
      "torch.Size([150])\n",
      "torch.Size([150])\n",
      "torch.Size([50, 300])\n",
      "torch.Size([50])\n",
      "torch.Size([4, 50])\n",
      "torch.Size([4])\n"
     ]
    }
   ],
   "source": [
    "# Optimizer Hyper Parameters\n",
    "learning_rate = 1e-3\n",
    "\n",
    "from VanillaRNN import VanillaRNN\n",
    "NUM_CLASSES = 4\n",
    "VERBOSE = False\n",
    "net = VanillaRNN(\n",
    "                conv_layers = True,\n",
    "                initial_hidden_layer_sizes = [],#[100],#[100],\n",
    "                recurrent_hidden_size = 150,\n",
    "                recurrent_use_bias = True,\n",
    "                recurrent_layer_num = 2,\n",
    "                #recurrent_dropout = 0.25,\n",
    "                final_hidden_layer_sizes = [50],#[100, 10],\n",
    "                num_classes=NUM_CLASSES,\n",
    "                verbose = VERBOSE)\n",
    "\n",
    "FCC_SANITY = False\n",
    "\n",
    "#from FC import FC\n",
    "#net = FC()\n",
    "#FCC_SANITY = True\n",
    "\n",
    "net.initialize_weights()\n",
    "\n",
    "criterion = nn.CrossEntropyLoss()\n",
    "optimizer = torch.optim.Adam(net.parameters(), lr=learning_rate)\n",
    "\n",
    "\n",
    "#optimizer = torch.optim.SGD(net.parameters(), lr=learning_rate, momentum=0.9)\n",
    "\n",
    "\n",
    "for s in net.parameters():\n",
    "    print('{}'.format(s.shape))\n",
    "    \n",
    "#print(net.rnn_layer.state_dict())"
   ]
  },
  {
   "cell_type": "code",
   "execution_count": 276,
   "metadata": {},
   "outputs": [
    {
     "name": "stdout",
     "output_type": "stream",
     "text": [
      "outshape1 torch.Size([1775, 8, 250])\n",
      "outshape2 torch.Size([250, 1775, 8])\n",
      "outshape before extract torch.Size([250, 1775, 150])\n",
      "before final outshape torch.Size([1775, 150])\n",
      "final outshape torch.Size([1775, 4])\n",
      "torch.Size([1775, 4])\n"
     ]
    },
    {
     "data": {
      "image/png": "[encoded data removed]",
      "text/plain": [
       "<matplotlib.figure.Figure at 0x7ff02d8f6090>"
      ]
     },
     "metadata": {},
     "output_type": "display_data"
    },
    {
     "data": {
      "image/png": "[encoded data removed]",
      "text/plain": [
       "<matplotlib.figure.Figure at 0x7ff04d480410>"
      ]
     },
     "metadata": {},
     "output_type": "display_data"
    },
    {
     "name": "stdout",
     "output_type": "stream",
     "text": [
      "outshape1 torch.Size([1775, 8, 250])\n",
      "outshape2 torch.Size([250, 1775, 8])\n",
      "outshape before extract torch.Size([250, 1775, 150])\n",
      "before final outshape torch.Size([1775, 150])\n",
      "final outshape torch.Size([1775, 4])\n",
      "torch.Size([1775, 4])\n"
     ]
    }
   ],
   "source": [
    "net.train(True)\n",
    "\n",
    "if (FCC_SANITY):\n",
    "    out = net.forward(tensor_x_train)\n",
    "else:\n",
    "    out, hidden = net.forward(tensor_x_train)\n",
    "print(out.shape)\n",
    "net.train(False)\n",
    "\n",
    "if (FCC_SANITY):\n",
    "    out = net.forward(tensor_x_train)\n",
    "else:    \n",
    "    out, hidden = net.forward(tensor_x_train)\n",
    "    \n",
    "print(out.shape)"
   ]
  },
  {
   "cell_type": "code",
   "execution_count": 318,
   "metadata": {},
   "outputs": [
    {
     "data": {
      "text/plain": [
       "115"
      ]
     },
     "execution_count": 318,
     "metadata": {},
     "output_type": "execute_result"
    }
   ],
   "source": [
    "import gc\n",
    "gc.collect()"
   ]
  },
  {
   "cell_type": "code",
   "execution_count": 325,
   "metadata": {
    "scrolled": true
   },
   "outputs": [
    {
     "name": "stdout",
     "output_type": "stream",
     "text": [
      "multilayer_h_shape torch.Size([2, 100, 150])\n",
      "permuted_h_shape torch.Size([100, 2, 150])\n",
      "flattened_h_shape torch.Size([100, 300])\n"
     ]
    },
    {
     "name": "stderr",
     "output_type": "stream",
     "text": [
      "/usr/local/lib/python2.7/dist-packages/ipykernel_launcher.py:58: UserWarning: invalid index of a 0-dim tensor. This will be an error in PyTorch 0.5. Use tensor.item() to convert a 0-dim tensor to a Python number\n"
     ]
    },
    {
     "name": "stdout",
     "output_type": "stream",
     "text": [
      "Epoch [1/20], Iter [1/17] Loss: [----- 1.3857 -----]\n",
      "multilayer_h_shape torch.Size([2, 100, 150])\n",
      "permuted_h_shape torch.Size([100, 2, 150])\n",
      "flattened_h_shape torch.Size([100, 300])\n",
      "Epoch [1/20], Iter [2/17] Loss: [----- 1.3967 -----]\n",
      "multilayer_h_shape torch.Size([2, 100, 150])\n",
      "permuted_h_shape torch.Size([100, 2, 150])\n",
      "flattened_h_shape torch.Size([100, 300])\n",
      "Epoch [1/20], Iter [3/17] Loss: [----- 1.4140 -----]\n",
      "multilayer_h_shape torch.Size([2, 100, 150])\n",
      "permuted_h_shape torch.Size([100, 2, 150])\n",
      "flattened_h_shape torch.Size([100, 300])\n",
      "Epoch [1/20], Iter [4/17] Loss: [----- 1.3959 -----]\n",
      "multilayer_h_shape torch.Size([2, 100, 150])\n",
      "permuted_h_shape torch.Size([100, 2, 150])\n",
      "flattened_h_shape torch.Size([100, 300])\n",
      "Epoch [1/20], Iter [5/17] Loss: [----- 1.4045 -----]\n",
      "multilayer_h_shape torch.Size([2, 100, 150])\n",
      "permuted_h_shape torch.Size([100, 2, 150])\n",
      "flattened_h_shape torch.Size([100, 300])\n",
      "Epoch [1/20], Iter [6/17] Loss: [----- 1.3838 -----]\n",
      "multilayer_h_shape torch.Size([2, 100, 150])\n",
      "permuted_h_shape torch.Size([100, 2, 150])\n",
      "flattened_h_shape torch.Size([100, 300])\n",
      "Epoch [1/20], Iter [7/17] Loss: [----- 1.3873 -----]\n",
      "multilayer_h_shape torch.Size([2, 100, 150])\n",
      "permuted_h_shape torch.Size([100, 2, 150])\n",
      "flattened_h_shape torch.Size([100, 300])\n",
      "Epoch [1/20], Iter [8/17] Loss: [----- 1.4028 -----]\n",
      "multilayer_h_shape torch.Size([2, 100, 150])\n",
      "permuted_h_shape torch.Size([100, 2, 150])\n",
      "flattened_h_shape torch.Size([100, 300])\n",
      "Epoch [1/20], Iter [9/17] Loss: [----- 1.4016 -----]\n",
      "multilayer_h_shape torch.Size([2, 100, 150])\n",
      "permuted_h_shape torch.Size([100, 2, 150])\n",
      "flattened_h_shape torch.Size([100, 300])\n",
      "Epoch [1/20], Iter [10/17] Loss: [----- 1.4010 -----]\n",
      "multilayer_h_shape torch.Size([2, 100, 150])\n",
      "permuted_h_shape torch.Size([100, 2, 150])\n",
      "flattened_h_shape torch.Size([100, 300])\n",
      "Epoch [1/20], Iter [11/17] Loss: [----- 1.3743 -----]\n",
      "multilayer_h_shape torch.Size([2, 100, 150])\n",
      "permuted_h_shape torch.Size([100, 2, 150])\n",
      "flattened_h_shape torch.Size([100, 300])\n",
      "Epoch [1/20], Iter [12/17] Loss: [----- 1.3839 -----]\n",
      "multilayer_h_shape torch.Size([2, 100, 150])\n",
      "permuted_h_shape torch.Size([100, 2, 150])\n",
      "flattened_h_shape torch.Size([100, 300])\n",
      "Epoch [1/20], Iter [13/17] Loss: [----- 1.4112 -----]\n",
      "multilayer_h_shape torch.Size([2, 100, 150])\n",
      "permuted_h_shape torch.Size([100, 2, 150])\n",
      "flattened_h_shape torch.Size([100, 300])\n",
      "Epoch [1/20], Iter [14/17] Loss: [----- 1.4183 -----]\n",
      "multilayer_h_shape torch.Size([2, 100, 150])\n",
      "permuted_h_shape torch.Size([100, 2, 150])\n",
      "flattened_h_shape torch.Size([100, 300])\n",
      "Epoch [1/20], Iter [15/17] Loss: [----- 1.4135 -----]\n",
      "multilayer_h_shape torch.Size([2, 100, 150])\n",
      "permuted_h_shape torch.Size([100, 2, 150])\n",
      "flattened_h_shape torch.Size([100, 300])\n",
      "Epoch [1/20], Iter [16/17] Loss: [----- 1.3806 -----]\n",
      "multilayer_h_shape torch.Size([2, 100, 150])\n",
      "permuted_h_shape torch.Size([100, 2, 150])\n",
      "flattened_h_shape torch.Size([100, 300])\n",
      "Epoch [1/20], Iter [17/17] Loss: [----- 1.4148 -----]\n",
      "multilayer_h_shape torch.Size([2, 75, 150])\n",
      "permuted_h_shape torch.Size([75, 2, 150])\n",
      "flattened_h_shape torch.Size([75, 300])\n",
      "Epoch [1/20], Iter [18/17] Loss: [----- 1.3915 -----]\n",
      "===========\n",
      "gradient:layer1.0.weight\n",
      "---------\n",
      "max:0.00976402685046\n"
     ]
    },
    {
     "data": {
      "image/png": "[encoded data removed]",
      "text/plain": [
       "<matplotlib.figure.Figure at 0x7ff04d55a9d0>"
      ]
     },
     "metadata": {},
     "output_type": "display_data"
    },
    {
     "name": "stdout",
     "output_type": "stream",
     "text": [
      "===========\n",
      "gradient:layer1.0.bias\n",
      "---------\n",
      "max:0.00108005374204\n"
     ]
    },
    {
     "data": {
      "image/png": "[encoded data removed]",
      "text/plain": [
       "<matplotlib.figure.Figure at 0x7ff065d8f7d0>"
      ]
     },
     "metadata": {},
     "output_type": "display_data"
    },
    {
     "name": "stdout",
     "output_type": "stream",
     "text": [
      "===========\n",
      "gradient:layer1.2.weight\n",
      "---------\n",
      "max:0.0380907356739\n"
     ]
    },
    {
     "data": {
      "image/png": "[encoded data removed]",
      "text/plain": [
       "<matplotlib.figure.Figure at 0x7ff02d8735d0>"
      ]
     },
     "metadata": {},
     "output_type": "display_data"
    },
    {
     "name": "stdout",
     "output_type": "stream",
     "text": [
      "===========\n",
      "gradient:layer1.2.bias\n",
      "---------\n",
      "max:0.0036756217014\n"
     ]
    },
    {
     "data": {
      "image/png": "[encoded data removed]",
      "text/plain": [
       "<matplotlib.figure.Figure at 0x7ff04cde9550>"
      ]
     },
     "metadata": {},
     "output_type": "display_data"
    },
    {
     "name": "stdout",
     "output_type": "stream",
     "text": [
      "===========\n",
      "gradient:rnn_layer.weight_ih_l0\n",
      "---------\n",
      "max:0.0688608661294\n"
     ]
    },
    {
     "ename": "KeyboardInterrupt",
     "evalue": "",
     "output_type": "error",
     "traceback": [
      "\u001b[0;31m---------------------------------------------------------------------------\u001b[0m",
      "\u001b[0;31mKeyboardInterrupt\u001b[0m                         Traceback (most recent call last)",
      "\u001b[0;32m<ipython-input-325-b52ca348e3ea>\u001b[0m in \u001b[0;36m<module>\u001b[0;34m()\u001b[0m\n\u001b[1;32m     64\u001b[0m         \u001b[0;32mprint\u001b[0m\u001b[0;34m(\u001b[0m\u001b[0;34m'===========\\ngradient:{}\\n---------\\nmax:{}'\u001b[0m\u001b[0;34m.\u001b[0m\u001b[0mformat\u001b[0m\u001b[0;34m(\u001b[0m\u001b[0mn\u001b[0m\u001b[0;34m,\u001b[0m\u001b[0mtorch\u001b[0m\u001b[0;34m.\u001b[0m\u001b[0mmax\u001b[0m\u001b[0;34m(\u001b[0m\u001b[0mp\u001b[0m\u001b[0;34m.\u001b[0m\u001b[0mgrad\u001b[0m\u001b[0;34m)\u001b[0m\u001b[0;34m)\u001b[0m\u001b[0;34m)\u001b[0m\u001b[0;34m\u001b[0m\u001b[0m\n\u001b[1;32m     65\u001b[0m         \u001b[0;32mif\u001b[0m \u001b[0;34m(\u001b[0m\u001b[0mp\u001b[0m\u001b[0;34m.\u001b[0m\u001b[0mgrad\u001b[0m \u001b[0;32mis\u001b[0m \u001b[0;32mnot\u001b[0m \u001b[0mNone\u001b[0m\u001b[0;34m)\u001b[0m\u001b[0;34m:\u001b[0m\u001b[0;34m\u001b[0m\u001b[0m\n\u001b[0;32m---> 66\u001b[0;31m             \u001b[0mplt\u001b[0m\u001b[0;34m.\u001b[0m\u001b[0mhist\u001b[0m\u001b[0;34m(\u001b[0m\u001b[0mp\u001b[0m\u001b[0;34m.\u001b[0m\u001b[0mgrad\u001b[0m\u001b[0;34m)\u001b[0m\u001b[0;34m\u001b[0m\u001b[0m\n\u001b[0m\u001b[1;32m     67\u001b[0m             \u001b[0mplt\u001b[0m\u001b[0;34m.\u001b[0m\u001b[0mshow\u001b[0m\u001b[0;34m(\u001b[0m\u001b[0;34m)\u001b[0m\u001b[0;34m\u001b[0m\u001b[0m\n\u001b[1;32m     68\u001b[0m \u001b[0;34m\u001b[0m\u001b[0m\n",
      "\u001b[0;32m/home/hh/.local/lib/python2.7/site-packages/matplotlib/pyplot.pyc\u001b[0m in \u001b[0;36mhist\u001b[0;34m(x, bins, range, normed, weights, cumulative, bottom, histtype, align, orientation, rwidth, log, color, label, stacked, hold, data, **kwargs)\u001b[0m\n\u001b[1;32m   3079\u001b[0m                       \u001b[0mhisttype\u001b[0m\u001b[0;34m=\u001b[0m\u001b[0mhisttype\u001b[0m\u001b[0;34m,\u001b[0m \u001b[0malign\u001b[0m\u001b[0;34m=\u001b[0m\u001b[0malign\u001b[0m\u001b[0;34m,\u001b[0m \u001b[0morientation\u001b[0m\u001b[0;34m=\u001b[0m\u001b[0morientation\u001b[0m\u001b[0;34m,\u001b[0m\u001b[0;34m\u001b[0m\u001b[0m\n\u001b[1;32m   3080\u001b[0m                       \u001b[0mrwidth\u001b[0m\u001b[0;34m=\u001b[0m\u001b[0mrwidth\u001b[0m\u001b[0;34m,\u001b[0m \u001b[0mlog\u001b[0m\u001b[0;34m=\u001b[0m\u001b[0mlog\u001b[0m\u001b[0;34m,\u001b[0m \u001b[0mcolor\u001b[0m\u001b[0;34m=\u001b[0m\u001b[0mcolor\u001b[0m\u001b[0;34m,\u001b[0m \u001b[0mlabel\u001b[0m\u001b[0;34m=\u001b[0m\u001b[0mlabel\u001b[0m\u001b[0;34m,\u001b[0m\u001b[0;34m\u001b[0m\u001b[0m\n\u001b[0;32m-> 3081\u001b[0;31m                       stacked=stacked, data=data, **kwargs)\n\u001b[0m\u001b[1;32m   3082\u001b[0m     \u001b[0;32mfinally\u001b[0m\u001b[0;34m:\u001b[0m\u001b[0;34m\u001b[0m\u001b[0m\n\u001b[1;32m   3083\u001b[0m         \u001b[0max\u001b[0m\u001b[0;34m.\u001b[0m\u001b[0m_hold\u001b[0m \u001b[0;34m=\u001b[0m \u001b[0mwashold\u001b[0m\u001b[0;34m\u001b[0m\u001b[0m\n",
      "\u001b[0;32m/home/hh/.local/lib/python2.7/site-packages/matplotlib/__init__.pyc\u001b[0m in \u001b[0;36minner\u001b[0;34m(ax, *args, **kwargs)\u001b[0m\n\u001b[1;32m   1896\u001b[0m                     warnings.warn(msg % (label_namer, func.__name__),\n\u001b[1;32m   1897\u001b[0m                                   RuntimeWarning, stacklevel=2)\n\u001b[0;32m-> 1898\u001b[0;31m             \u001b[0;32mreturn\u001b[0m \u001b[0mfunc\u001b[0m\u001b[0;34m(\u001b[0m\u001b[0max\u001b[0m\u001b[0;34m,\u001b[0m \u001b[0;34m*\u001b[0m\u001b[0margs\u001b[0m\u001b[0;34m,\u001b[0m \u001b[0;34m**\u001b[0m\u001b[0mkwargs\u001b[0m\u001b[0;34m)\u001b[0m\u001b[0;34m\u001b[0m\u001b[0m\n\u001b[0m\u001b[1;32m   1899\u001b[0m         \u001b[0mpre_doc\u001b[0m \u001b[0;34m=\u001b[0m \u001b[0minner\u001b[0m\u001b[0;34m.\u001b[0m\u001b[0m__doc__\u001b[0m\u001b[0;34m\u001b[0m\u001b[0m\n\u001b[1;32m   1900\u001b[0m         \u001b[0;32mif\u001b[0m \u001b[0mpre_doc\u001b[0m \u001b[0;32mis\u001b[0m \u001b[0mNone\u001b[0m\u001b[0;34m:\u001b[0m\u001b[0;34m\u001b[0m\u001b[0m\n",
      "\u001b[0;32m/home/hh/.local/lib/python2.7/site-packages/matplotlib/axes/_axes.pyc\u001b[0m in \u001b[0;36mhist\u001b[0;34m(***failed resolving arguments***)\u001b[0m\n\u001b[1;32m   6277\u001b[0m                 patch = _barfunc(bins[:-1]+boffset, height, width,\n\u001b[1;32m   6278\u001b[0m                                  \u001b[0malign\u001b[0m\u001b[0;34m=\u001b[0m\u001b[0;34m'center'\u001b[0m\u001b[0;34m,\u001b[0m \u001b[0mlog\u001b[0m\u001b[0;34m=\u001b[0m\u001b[0mlog\u001b[0m\u001b[0;34m,\u001b[0m\u001b[0;34m\u001b[0m\u001b[0m\n\u001b[0;32m-> 6279\u001b[0;31m                                  color=c, **{bottom_kwarg: bottom})\n\u001b[0m\u001b[1;32m   6280\u001b[0m                 \u001b[0mpatches\u001b[0m\u001b[0;34m.\u001b[0m\u001b[0mappend\u001b[0m\u001b[0;34m(\u001b[0m\u001b[0mpatch\u001b[0m\u001b[0;34m)\u001b[0m\u001b[0;34m\u001b[0m\u001b[0m\n\u001b[1;32m   6281\u001b[0m                 \u001b[0;32mif\u001b[0m \u001b[0mstacked\u001b[0m\u001b[0;34m:\u001b[0m\u001b[0;34m\u001b[0m\u001b[0m\n",
      "\u001b[0;32m/home/hh/.local/lib/python2.7/site-packages/matplotlib/__init__.pyc\u001b[0m in \u001b[0;36minner\u001b[0;34m(ax, *args, **kwargs)\u001b[0m\n\u001b[1;32m   1896\u001b[0m                     warnings.warn(msg % (label_namer, func.__name__),\n\u001b[1;32m   1897\u001b[0m                                   RuntimeWarning, stacklevel=2)\n\u001b[0;32m-> 1898\u001b[0;31m             \u001b[0;32mreturn\u001b[0m \u001b[0mfunc\u001b[0m\u001b[0;34m(\u001b[0m\u001b[0max\u001b[0m\u001b[0;34m,\u001b[0m \u001b[0;34m*\u001b[0m\u001b[0margs\u001b[0m\u001b[0;34m,\u001b[0m \u001b[0;34m**\u001b[0m\u001b[0mkwargs\u001b[0m\u001b[0;34m)\u001b[0m\u001b[0;34m\u001b[0m\u001b[0m\n\u001b[0m\u001b[1;32m   1899\u001b[0m         \u001b[0mpre_doc\u001b[0m \u001b[0;34m=\u001b[0m \u001b[0minner\u001b[0m\u001b[0;34m.\u001b[0m\u001b[0m__doc__\u001b[0m\u001b[0;34m\u001b[0m\u001b[0m\n\u001b[1;32m   1900\u001b[0m         \u001b[0;32mif\u001b[0m \u001b[0mpre_doc\u001b[0m \u001b[0;32mis\u001b[0m \u001b[0mNone\u001b[0m\u001b[0;34m:\u001b[0m\u001b[0;34m\u001b[0m\u001b[0m\n",
      "\u001b[0;32m/home/hh/.local/lib/python2.7/site-packages/matplotlib/axes/_axes.pyc\u001b[0m in \u001b[0;36mbar\u001b[0;34m(self, left, height, width, bottom, **kwargs)\u001b[0m\n\u001b[1;32m   2126\u001b[0m             \u001b[0;32melif\u001b[0m \u001b[0morientation\u001b[0m \u001b[0;34m==\u001b[0m \u001b[0;34m'horizontal'\u001b[0m\u001b[0;34m:\u001b[0m\u001b[0;34m\u001b[0m\u001b[0m\n\u001b[1;32m   2127\u001b[0m                 \u001b[0mr\u001b[0m\u001b[0;34m.\u001b[0m\u001b[0msticky_edges\u001b[0m\u001b[0;34m.\u001b[0m\u001b[0mx\u001b[0m\u001b[0;34m.\u001b[0m\u001b[0mappend\u001b[0m\u001b[0;34m(\u001b[0m\u001b[0ml\u001b[0m\u001b[0;34m)\u001b[0m\u001b[0;34m\u001b[0m\u001b[0m\n\u001b[0;32m-> 2128\u001b[0;31m             \u001b[0mself\u001b[0m\u001b[0;34m.\u001b[0m\u001b[0madd_patch\u001b[0m\u001b[0;34m(\u001b[0m\u001b[0mr\u001b[0m\u001b[0;34m)\u001b[0m\u001b[0;34m\u001b[0m\u001b[0m\n\u001b[0m\u001b[1;32m   2129\u001b[0m             \u001b[0mpatches\u001b[0m\u001b[0;34m.\u001b[0m\u001b[0mappend\u001b[0m\u001b[0;34m(\u001b[0m\u001b[0mr\u001b[0m\u001b[0;34m)\u001b[0m\u001b[0;34m\u001b[0m\u001b[0m\n\u001b[1;32m   2130\u001b[0m \u001b[0;34m\u001b[0m\u001b[0m\n",
      "\u001b[0;32m/home/hh/.local/lib/python2.7/site-packages/matplotlib/axes/_base.pyc\u001b[0m in \u001b[0;36madd_patch\u001b[0;34m(self, p)\u001b[0m\n\u001b[1;32m   1865\u001b[0m         \u001b[0mself\u001b[0m\u001b[0;34m.\u001b[0m\u001b[0m_set_artist_props\u001b[0m\u001b[0;34m(\u001b[0m\u001b[0mp\u001b[0m\u001b[0;34m)\u001b[0m\u001b[0;34m\u001b[0m\u001b[0m\n\u001b[1;32m   1866\u001b[0m         \u001b[0;32mif\u001b[0m \u001b[0mp\u001b[0m\u001b[0;34m.\u001b[0m\u001b[0mget_clip_path\u001b[0m\u001b[0;34m(\u001b[0m\u001b[0;34m)\u001b[0m \u001b[0;32mis\u001b[0m \u001b[0mNone\u001b[0m\u001b[0;34m:\u001b[0m\u001b[0;34m\u001b[0m\u001b[0m\n\u001b[0;32m-> 1867\u001b[0;31m             \u001b[0mp\u001b[0m\u001b[0;34m.\u001b[0m\u001b[0mset_clip_path\u001b[0m\u001b[0;34m(\u001b[0m\u001b[0mself\u001b[0m\u001b[0;34m.\u001b[0m\u001b[0mpatch\u001b[0m\u001b[0;34m)\u001b[0m\u001b[0;34m\u001b[0m\u001b[0m\n\u001b[0m\u001b[1;32m   1868\u001b[0m         \u001b[0mself\u001b[0m\u001b[0;34m.\u001b[0m\u001b[0m_update_patch_limits\u001b[0m\u001b[0;34m(\u001b[0m\u001b[0mp\u001b[0m\u001b[0;34m)\u001b[0m\u001b[0;34m\u001b[0m\u001b[0m\n\u001b[1;32m   1869\u001b[0m         \u001b[0mself\u001b[0m\u001b[0;34m.\u001b[0m\u001b[0mpatches\u001b[0m\u001b[0;34m.\u001b[0m\u001b[0mappend\u001b[0m\u001b[0;34m(\u001b[0m\u001b[0mp\u001b[0m\u001b[0;34m)\u001b[0m\u001b[0;34m\u001b[0m\u001b[0m\n",
      "\u001b[0;32m/home/hh/.local/lib/python2.7/site-packages/matplotlib/artist.pyc\u001b[0m in \u001b[0;36mset_clip_path\u001b[0;34m(self, path, transform)\u001b[0m\n\u001b[1;32m    692\u001b[0m             \u001b[0;32mif\u001b[0m \u001b[0misinstance\u001b[0m\u001b[0;34m(\u001b[0m\u001b[0mpath\u001b[0m\u001b[0;34m,\u001b[0m \u001b[0mRectangle\u001b[0m\u001b[0;34m)\u001b[0m\u001b[0;34m:\u001b[0m\u001b[0;34m\u001b[0m\u001b[0m\n\u001b[1;32m    693\u001b[0m                 self.clipbox = TransformedBbox(Bbox.unit(),\n\u001b[0;32m--> 694\u001b[0;31m                                                path.get_transform())\n\u001b[0m\u001b[1;32m    695\u001b[0m                 \u001b[0mself\u001b[0m\u001b[0;34m.\u001b[0m\u001b[0m_clippath\u001b[0m \u001b[0;34m=\u001b[0m \u001b[0mNone\u001b[0m\u001b[0;34m\u001b[0m\u001b[0m\n\u001b[1;32m    696\u001b[0m                 \u001b[0msuccess\u001b[0m \u001b[0;34m=\u001b[0m \u001b[0mTrue\u001b[0m\u001b[0;34m\u001b[0m\u001b[0m\n",
      "\u001b[0;32m/home/hh/.local/lib/python2.7/site-packages/matplotlib/patches.pyc\u001b[0m in \u001b[0;36mget_transform\u001b[0;34m(self)\u001b[0m\n\u001b[1;32m    219\u001b[0m         \u001b[0mto\u001b[0m \u001b[0mthe\u001b[0m \u001b[0;34m:\u001b[0m\u001b[0;32mclass\u001b[0m\u001b[0;34m:\u001b[0m\u001b[0;34m`\u001b[0m\u001b[0mPatch\u001b[0m\u001b[0;34m`\u001b[0m\u001b[0;34m.\u001b[0m\u001b[0;34m\u001b[0m\u001b[0m\n\u001b[1;32m    220\u001b[0m         \"\"\"\n\u001b[0;32m--> 221\u001b[0;31m         \u001b[0;32mreturn\u001b[0m \u001b[0mself\u001b[0m\u001b[0;34m.\u001b[0m\u001b[0mget_patch_transform\u001b[0m\u001b[0;34m(\u001b[0m\u001b[0;34m)\u001b[0m \u001b[0;34m+\u001b[0m \u001b[0martist\u001b[0m\u001b[0;34m.\u001b[0m\u001b[0mArtist\u001b[0m\u001b[0;34m.\u001b[0m\u001b[0mget_transform\u001b[0m\u001b[0;34m(\u001b[0m\u001b[0mself\u001b[0m\u001b[0;34m)\u001b[0m\u001b[0;34m\u001b[0m\u001b[0m\n\u001b[0m\u001b[1;32m    222\u001b[0m \u001b[0;34m\u001b[0m\u001b[0m\n\u001b[1;32m    223\u001b[0m     \u001b[0;32mdef\u001b[0m \u001b[0mget_data_transform\u001b[0m\u001b[0;34m(\u001b[0m\u001b[0mself\u001b[0m\u001b[0;34m)\u001b[0m\u001b[0;34m:\u001b[0m\u001b[0;34m\u001b[0m\u001b[0m\n",
      "\u001b[0;32m/home/hh/.local/lib/python2.7/site-packages/matplotlib/patches.pyc\u001b[0m in \u001b[0;36mget_patch_transform\u001b[0;34m(self)\u001b[0m\n\u001b[1;32m    719\u001b[0m \u001b[0;34m\u001b[0m\u001b[0m\n\u001b[1;32m    720\u001b[0m     \u001b[0;32mdef\u001b[0m \u001b[0mget_patch_transform\u001b[0m\u001b[0;34m(\u001b[0m\u001b[0mself\u001b[0m\u001b[0;34m)\u001b[0m\u001b[0;34m:\u001b[0m\u001b[0;34m\u001b[0m\u001b[0m\n\u001b[0;32m--> 721\u001b[0;31m         \u001b[0mself\u001b[0m\u001b[0;34m.\u001b[0m\u001b[0m_update_patch_transform\u001b[0m\u001b[0;34m(\u001b[0m\u001b[0;34m)\u001b[0m\u001b[0;34m\u001b[0m\u001b[0m\n\u001b[0m\u001b[1;32m    722\u001b[0m         \u001b[0;32mreturn\u001b[0m \u001b[0mself\u001b[0m\u001b[0;34m.\u001b[0m\u001b[0m_rect_transform\u001b[0m\u001b[0;34m\u001b[0m\u001b[0m\n\u001b[1;32m    723\u001b[0m \u001b[0;34m\u001b[0m\u001b[0m\n",
      "\u001b[0;32m/home/hh/.local/lib/python2.7/site-packages/matplotlib/patches.pyc\u001b[0m in \u001b[0;36m_update_patch_transform\u001b[0;34m(self)\u001b[0m\n\u001b[1;32m    715\u001b[0m         \u001b[0mrot_trans\u001b[0m \u001b[0;34m=\u001b[0m \u001b[0mtransforms\u001b[0m\u001b[0;34m.\u001b[0m\u001b[0mAffine2D\u001b[0m\u001b[0;34m(\u001b[0m\u001b[0;34m)\u001b[0m\u001b[0;34m\u001b[0m\u001b[0m\n\u001b[1;32m    716\u001b[0m         \u001b[0mrot_trans\u001b[0m\u001b[0;34m.\u001b[0m\u001b[0mrotate_deg_around\u001b[0m\u001b[0;34m(\u001b[0m\u001b[0mx\u001b[0m\u001b[0;34m,\u001b[0m \u001b[0my\u001b[0m\u001b[0;34m,\u001b[0m \u001b[0mself\u001b[0m\u001b[0;34m.\u001b[0m\u001b[0m_angle\u001b[0m\u001b[0;34m)\u001b[0m\u001b[0;34m\u001b[0m\u001b[0m\n\u001b[0;32m--> 717\u001b[0;31m         \u001b[0mself\u001b[0m\u001b[0;34m.\u001b[0m\u001b[0m_rect_transform\u001b[0m \u001b[0;34m=\u001b[0m \u001b[0mtransforms\u001b[0m\u001b[0;34m.\u001b[0m\u001b[0mBboxTransformTo\u001b[0m\u001b[0;34m(\u001b[0m\u001b[0mbbox\u001b[0m\u001b[0;34m)\u001b[0m\u001b[0;34m\u001b[0m\u001b[0m\n\u001b[0m\u001b[1;32m    718\u001b[0m         \u001b[0mself\u001b[0m\u001b[0;34m.\u001b[0m\u001b[0m_rect_transform\u001b[0m \u001b[0;34m+=\u001b[0m \u001b[0mrot_trans\u001b[0m\u001b[0;34m\u001b[0m\u001b[0m\n\u001b[1;32m    719\u001b[0m \u001b[0;34m\u001b[0m\u001b[0m\n",
      "\u001b[0;32m/home/hh/.local/lib/python2.7/site-packages/matplotlib/transforms.pyc\u001b[0m in \u001b[0;36m__init__\u001b[0;34m(self, boxout, **kwargs)\u001b[0m\n\u001b[1;32m   2558\u001b[0m         \u001b[0mAffine2DBase\u001b[0m\u001b[0;34m.\u001b[0m\u001b[0m__init__\u001b[0m\u001b[0;34m(\u001b[0m\u001b[0mself\u001b[0m\u001b[0;34m,\u001b[0m \u001b[0;34m**\u001b[0m\u001b[0mkwargs\u001b[0m\u001b[0;34m)\u001b[0m\u001b[0;34m\u001b[0m\u001b[0m\n\u001b[1;32m   2559\u001b[0m         \u001b[0mself\u001b[0m\u001b[0;34m.\u001b[0m\u001b[0m_boxout\u001b[0m \u001b[0;34m=\u001b[0m \u001b[0mboxout\u001b[0m\u001b[0;34m\u001b[0m\u001b[0m\n\u001b[0;32m-> 2560\u001b[0;31m         \u001b[0mself\u001b[0m\u001b[0;34m.\u001b[0m\u001b[0mset_children\u001b[0m\u001b[0;34m(\u001b[0m\u001b[0mboxout\u001b[0m\u001b[0;34m)\u001b[0m\u001b[0;34m\u001b[0m\u001b[0m\n\u001b[0m\u001b[1;32m   2561\u001b[0m         \u001b[0mself\u001b[0m\u001b[0;34m.\u001b[0m\u001b[0m_mtx\u001b[0m \u001b[0;34m=\u001b[0m \u001b[0mNone\u001b[0m\u001b[0;34m\u001b[0m\u001b[0m\n\u001b[1;32m   2562\u001b[0m         \u001b[0mself\u001b[0m\u001b[0;34m.\u001b[0m\u001b[0m_inverted\u001b[0m \u001b[0;34m=\u001b[0m \u001b[0mNone\u001b[0m\u001b[0;34m\u001b[0m\u001b[0m\n",
      "\u001b[0;32m/home/hh/.local/lib/python2.7/site-packages/matplotlib/transforms.pyc\u001b[0m in \u001b[0;36mset_children\u001b[0;34m(self, *children)\u001b[0m\n\u001b[1;32m    168\u001b[0m         \u001b[0mdepend\u001b[0m \u001b[0mon\u001b[0m \u001b[0mother\u001b[0m \u001b[0mtransforms\u001b[0m\u001b[0;34m.\u001b[0m\u001b[0;34m\u001b[0m\u001b[0m\n\u001b[1;32m    169\u001b[0m         \"\"\"\n\u001b[0;32m--> 170\u001b[0;31m         \u001b[0;32mfor\u001b[0m \u001b[0mchild\u001b[0m \u001b[0;32min\u001b[0m \u001b[0mchildren\u001b[0m\u001b[0;34m:\u001b[0m\u001b[0;34m\u001b[0m\u001b[0m\n\u001b[0m\u001b[1;32m    171\u001b[0m             \u001b[0mchild\u001b[0m\u001b[0;34m.\u001b[0m\u001b[0m_parents\u001b[0m\u001b[0;34m[\u001b[0m\u001b[0mid\u001b[0m\u001b[0;34m(\u001b[0m\u001b[0mself\u001b[0m\u001b[0;34m)\u001b[0m\u001b[0;34m]\u001b[0m \u001b[0;34m=\u001b[0m \u001b[0mself\u001b[0m\u001b[0;34m\u001b[0m\u001b[0m\n\u001b[1;32m    172\u001b[0m \u001b[0;34m\u001b[0m\u001b[0m\n",
      "\u001b[0;31mKeyboardInterrupt\u001b[0m: "
     ]
    },
    {
     "data": {
      "image/png": "[encoded data removed]",
      "text/plain": [
       "<matplotlib.figure.Figure at 0x7ff0668e2990>"
      ]
     },
     "metadata": {},
     "output_type": "display_data"
    }
   ],
   "source": [
    "torch.manual_seed(1111)\n",
    "\n",
    "train_acc = []\n",
    "val_acc = []\n",
    "loss_history = []\n",
    "          \n",
    "for epoch in range(num_epochs):\n",
    "\n",
    "    ######################## TRAINING\n",
    "        \n",
    "    net.train(True)\n",
    "    \n",
    "    for i, (images, labels) in enumerate(train_loader):\n",
    "        \n",
    "        #     for i in range(cnn_training_data_X.shape[0]):\n",
    "        images = Variable(images, requires_grad=True) #unsqueeze used to make a 4d tensor because \n",
    "        #     print images.shape\n",
    "        \n",
    "        if (VERBOSE):\n",
    "            print('initial label shape: {}'.format(labels.shape))\n",
    "        #if (False): #not FCC_SANITY):\n",
    "        #    labels = labels.repeat(T, 1)\n",
    "        #    print('repeated label shape {}'.format((labels.shape)))\n",
    "        #    labels =  labels.view(-1)\n",
    "            \n",
    "        #print(labels)\n",
    "        labels = Variable(labels)\n",
    "        \n",
    "        #print('iteration label mean {}'.format(torch.mean(predicted.float())))\n",
    "\n",
    "        if (VERBOSE):\n",
    "            print('iteration label set {}'.format(np.unique(labels.data)))\n",
    "        \n",
    "        # Forward + Backward + Optimize\n",
    "        optimizer.zero_grad()\n",
    "        \n",
    "        if (FCC_SANITY):\n",
    "            outputs = net(images)\n",
    "        else:    \n",
    "            outputs, hidden = net(images)\n",
    "        \n",
    "        #reshaped_outputs = outputs.view(-1, NUM_CLASSES)\n",
    "        #reshaped_labels = labels.view(-1)\n",
    "        \n",
    "        _, predicted = torch.max(outputs.data, 1)\n",
    "    \n",
    "        if (VERBOSE):\n",
    "            print('training predicted set {}'.format(np.unique(predicted.data)))\n",
    "            print('training output shape: {}'.format(outputs.shape))\n",
    "            print('training labels shape: {}'.format(labels.shape))\n",
    "        \n",
    "        loss = criterion(outputs, labels)\n",
    "        loss_history.append(loss)\n",
    "        loss.backward()\n",
    "        optimizer.step()\n",
    "\n",
    "        print ('Epoch [%d/%d], Iter [%d/%d] Loss: [----- %.4f -----]' \n",
    "               %(epoch+1, num_epochs, i+1, rnn_training_data_X.shape[0]*1.0/batch_size, loss.data[0]))\n",
    "    \n",
    "    ######################## PER EPOCH EVALUATION\n",
    "            \n",
    "    for n,p in net.named_parameters():\n",
    "        #if n[:6] == 'weight':\n",
    "        print('===========\\ngradient:{}\\n---------\\nmax:{}'.format(n,torch.max(p.grad)))\n",
    "        if (p.grad is not None):\n",
    "            plt.hist(p.grad)\n",
    "            plt.show()\n",
    "          \n",
    "    if (VERBOSE):\n",
    "        print('weight_hh_l0:')\n",
    "        print(net.rnn_layer.state_dict()['weight_hh_l0'])\n",
    "\n",
    "    \n",
    "    net.train(False)\n",
    "    \n",
    "    images = Variable(torch.Tensor(rnn_training_data_X))\n",
    "    test_labels = torch.LongTensor(rnn_training_data_Y)\n",
    "    \n",
    "    if (FCC_SANITY):\n",
    "        outputs = net(images)\n",
    "    else:\n",
    "        outputs, hidden = net(images)\n",
    "    \n",
    "    print(outputs.shape)\n",
    "    \n",
    "    correct = 0\n",
    "    total = 0\n",
    "    _, predicted = torch.max(outputs.data, 1)\n",
    "    total += test_labels.size(0)\n",
    "    correct += (predicted == test_labels).double().sum()\n",
    "    print('Train Accuracy: %d %%' % (100 * correct / total))\n",
    "    train_acc.append((100 * correct / total))\n",
    "\n",
    "    net.eval()  # Change model to 'eval' mode (BN uses moving mean/var).\n",
    "    correct = 0\n",
    "    total = 0\n",
    "    images = Variable(torch.Tensor(rnn_validation_data_X))\n",
    "    test_labels = torch.LongTensor(rnn_validation_data_Y)\n",
    "    \n",
    "    if (FCC_SANITY):\n",
    "        outputs = net(images)\n",
    "    else:\n",
    "        outputs, hidden = net(images)\n",
    "    \n",
    "    _, predicted = torch.max(outputs.data, 1)\n",
    "    \n",
    "    print('predicted set {}'.format(np.unique(predicted.data)))\n",
    "    print('label set {}'.format(np.unique(test_labels.data)))\n",
    "    \n",
    "    total += test_labels.size(0)\n",
    "    correct += (predicted == test_labels).double().sum()\n",
    "    print('validation Accuracy: %d %%' % (100.0 * correct / total))\n",
    "    val_acc.append((100 * correct / total))"
   ]
  }
 ],
 "metadata": {
  "kernelspec": {
   "display_name": "Python 2",
   "language": "python",
   "name": "python2"
  },
  "language_info": {
   "codemirror_mode": {
    "name": "ipython",
    "version": 2
   },
   "file_extension": ".py",
   "mimetype": "text/x-python",
   "name": "python",
   "nbconvert_exporter": "python",
   "pygments_lexer": "ipython2",
   "version": "2.7.13"
  }
 },
 "nbformat": 4,
 "nbformat_minor": 2
}
