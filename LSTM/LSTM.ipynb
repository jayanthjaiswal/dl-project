{
 "cells": [
  {
   "cell_type": "markdown",
   "metadata": {},
   "source": [
    "# LSTMs for Human Activity Recognition\n",
    "\n",
    "Human activity recognition using smartwatch dataset and an LSTM RNN. Classifying the type of movement amongst six categories:\n",
    "- WALKING,\n",
    "- SITTING,\n",
    "- STANDING,\n",
    "- LAYING.\n",
    "\n",
    "Compared to a classical approach, using a Recurrent Neural Networks (RNN) with Long Short-Term Memory cells (LSTMs) require no or almost no feature engineering. Data can be fed directly into the neural network who acts like a black box, modeling the problem correctly. Other research on the activity recognition dataset used mostly use a big amount of feature engineering, which is rather a signal processing approach combined with classical data science techniques. The approach here is rather very simple in terms of how much did the data was preprocessed. \n",
    "\n",
    "## Details about input data\n",
    "\n",
    "I will be using an LSTM on the data to learn (as a smartwatch attached on the wrist) to recognise the type of activity that the user is doing. A similar dataset's description based on prior research goes like this:\n",
    "\n",
    "> The sensor signals (accelerometer and gyroscope) were pre-processed by applying noise filters and then sampled in fixed-width sliding windows of 2.56 sec and 50% overlap (128 readings/window). The sensor acceleration signal, which has gravitational and body motion components, was separated using a Butterworth low-pass filter into body acceleration and gravity. The gravitational force is assumed to have only low frequency components, therefore a filter with 0.3 Hz cutoff frequency was used. \n",
    "\n",
    "That said, I will use the almost raw data. \n",
    "\n",
    "## What is an RNN?\n",
    "\n",
    "As explained in [this article](http://karpathy.github.io/2015/05/21/rnn-effectiveness/), an RNN takes many input vectors to process them and output other vectors. It can be roughly pictured like in the image below, imagining each rectangle has a vectorial depth and other special hidden quirks in the image below. **In our case, the \"many to one\" architecture is used**: we accept time series of feature vectors (one vector per time step) to convert them to a probability vector at the output for classification. Note that a \"one to one\" architecture would be a standard feedforward neural network. \n",
    "\n",
    "<img src=\"http://karpathy.github.io/assets/rnn/diags.jpeg\" />\n",
    "\n",
    "An LSTM is an improved RNN. It is more complex, but easier to train, avoiding what is called the vanishing gradient problem. \n",
    "\n",
    "\n",
    "## Results \n",
    "\n",
    "Scroll on! Nice visuals awaits. "
   ]
  },
  {
   "cell_type": "code",
   "execution_count": 25,
   "metadata": {},
   "outputs": [],
   "source": [
    "# All Includes\n",
    "\n",
    "import numpy as np\n",
    "import pandas\n",
    "import matplotlib\n",
    "import matplotlib.pyplot as plt\n",
    "import tensorflow as tf  # Version 1.0.0 (some previous versions are used in past commits)\n",
    "from sklearn import metrics\n",
    "\n",
    "import os"
   ]
  },
  {
   "cell_type": "code",
   "execution_count": 5,
   "metadata": {},
   "outputs": [
    {
     "name": "stdout",
     "output_type": "stream",
     "text": [
      "['../project_datasets/A07T_slice.mat', '../project_datasets/A08T_slice.mat', '../project_datasets/A09T_slice.mat', '../project_datasets/A03T_slice.mat', '../project_datasets/A04T_slice.mat', '../project_datasets/A01T_slice.mat', '../project_datasets/A05T_slice.mat', '../project_datasets/A06T_slice.mat', '../project_datasets/A02T_slice.mat']\n",
      "[u'image', u'type']\n",
      "(288, 25, 1000)\n"
     ]
    }
   ],
   "source": [
    "import glob\n",
    "import h5py\n",
    "%matplotlib inline\n",
    "\n",
    "mat_names = glob.glob('../project_datasets/*.mat')\n",
    "# each test subject got a different file - 9 test subjects\n",
    "print(mat_names)\n",
    "\n",
    "matfile = h5py.File(mat_names[0], 'r')\n",
    "print(matfile.keys()) #image and type\n",
    "\n",
    "image_mat = matfile['image']\n",
    "image_shape = image_mat.shape # 288 (48x6) trials across 25 electrodes for 1000 time points (250Hz*4s)\n",
    "print image_shape"
   ]
  },
  {
   "cell_type": "code",
   "execution_count": 6,
   "metadata": {},
   "outputs": [
    {
     "name": "stdout",
     "output_type": "stream",
     "text": [
      "(1, 1000)\n",
      "0\n",
      "288\n",
      "[0.0, 769.0, 770.0, 771.0, 772.0]\n"
     ]
    }
   ],
   "source": [
    "type_mat = matfile['type']\n",
    "type_shape = type_mat.shape\n",
    "print type_shape\n",
    "# plt.plot(type_mat[0,:288]) # gets the significant values of types\n",
    "# all the 0's occur after 288, and are meaningless I think\n",
    "# so the image_mat, which has shape (288, 25, 1000) should correspond\n",
    "# to the first 288 entries of type_mat, so\n",
    "# for a single subject, training data should be image_mat, with 288 samples, each sample has shape (25, 1000)\n",
    "# and our target label matrix should be type_mat[:288] (or 287?)\n",
    "\n",
    "nans = np.sum(np.isnan(image_mat[:,:]))\n",
    "print(nans) #No NaN in the data\n",
    "print len(image_mat[0:,:])\n",
    "count = 0\n",
    "# for i in range(len(image_mat[0:,:])):\n",
    "#  if np.sum(np.isnan(image_mat[i:,:])):\n",
    "#         pass\n",
    "\n",
    "type_set = list(set(type_mat[0,:]))\n",
    "print(type_set) "
   ]
  },
  {
   "cell_type": "code",
   "execution_count": 7,
   "metadata": {},
   "outputs": [],
   "source": [
    "EEG_channels = 22 #from project guidelines\n",
    "test_count = 50 #from project guideline, 238 for train-validation and 50 for test\n",
    "validation_count = 38 # 38 points in validation set and remaining 200 points in test set"
   ]
  },
  {
   "cell_type": "code",
   "execution_count": 63,
   "metadata": {},
   "outputs": [],
   "source": [
    "#setting seed\n",
    "np.random.seed(seed=1337)\n",
    "test_picked = np.random.choice(image_shape[0], test_count, replace=False)\n",
    "train_val_picked = np.setdiff1d(np.arange(image_shape[0]), test_picked)\n",
    "val_picked = train_val_picked[:validation_count]\n",
    "train_picked = train_val_picked[validation_count:]"
   ]
  },
  {
   "cell_type": "code",
   "execution_count": 64,
   "metadata": {},
   "outputs": [],
   "source": [
    "trainval_data_X = []\n",
    "training_data_X = []\n",
    "validation_data_X = []\n",
    "test_data_X = []\n",
    "\n",
    "trainval_data_Y = []\n",
    "training_data_Y = []\n",
    "validation_data_Y = []\n",
    "test_data_Y = []\n",
    "\n",
    "for i in range(len(mat_names)):\n",
    "    matfile = h5py.File(mat_names[i], 'r')\n",
    "    \n",
    "    trainval_data_X.append(matfile['image'][sorted(train_val_picked),:EEG_channels,:]) #(238, 22, 1000) x 9\n",
    "    training_data_X.append(matfile['image'][sorted(train_picked),:EEG_channels,:]) #(200, 22, 1000) x 9\n",
    "    validation_data_X.append(matfile['image'][sorted(val_picked),:EEG_channels,:]) #(38, 22, 1000) x 9\n",
    "    test_data_X.append(matfile['image'][sorted(test_picked),:EEG_channels,:]) #(50, 22, 1000) x 9\n",
    "    \n",
    "    trainval_data_Y.append(matfile['type'][0,sorted(train_val_picked)] - type_set[1]) #(238, ) x 9\n",
    "    training_data_Y.append(matfile['type'][0,sorted(train_picked)] - type_set[1]) #(200, ) x 9\n",
    "    validation_data_Y.append(matfile['type'][0,sorted(val_picked)] - type_set[1]) #(38, ) x 9\n",
    "    test_data_Y.append(matfile['type'][0,sorted(test_picked)] - type_set[1]) #(50, ) x 9"
   ]
  },
  {
   "cell_type": "code",
   "execution_count": 65,
   "metadata": {},
   "outputs": [
    {
     "name": "stdout",
     "output_type": "stream",
     "text": [
      "(200, 22, 1000)\n"
     ]
    }
   ],
   "source": [
    "training_data_shape = training_data_X[0].shape\n",
    "print(training_data_shape) #(200, 22, 1000) while test data shape is (50, 22, 1000) and validation data is (38, 22,1000)"
   ]
  },
  {
   "cell_type": "code",
   "execution_count": 66,
   "metadata": {},
   "outputs": [
    {
     "name": "stdout",
     "output_type": "stream",
     "text": [
      "before nans: (2142, 22, 1000)\n",
      "before nans: (2115, 22, 1000)\n",
      "before nans: (1800, 22, 1000)\n",
      "before nans: (1775, 22, 1000)\n",
      "before nans: (342, 22, 1000)\n",
      "before nans: (340, 22, 1000)\n",
      "before nans: (450, 22, 1000)\n",
      "before nans: (443, 22, 1000)\n"
     ]
    }
   ],
   "source": [
    "from functools import reduce\n",
    "\n",
    "rnn_trainval_data_X = np.concatenate(trainval_data_X, axis=0) #(2142, 22, 1000)\n",
    "rnn_training_data_X = np.concatenate(training_data_X, axis=0) #(1800, 22, 1000)\n",
    "rnn_validation_data_X = np.concatenate(validation_data_X, axis=0) #(342, 22, 1000)\n",
    "rnn_test_data_X = np.concatenate(test_data_X, axis=0) #(450, 22, 1000)\n",
    "\n",
    "rnn_trainval_data_Y = np.concatenate(trainval_data_Y, axis=0) #(2142, )\n",
    "rnn_training_data_Y = np.concatenate(training_data_Y, axis=0) #(1800, )\n",
    "rnn_validation_data_Y = np.concatenate(validation_data_Y, axis=0) #(342, )\n",
    "rnn_test_data_Y = np.concatenate(test_data_Y, axis=0) #(450,)\n",
    "\n",
    "def remove_nan_rows_A(A, b, debug=True):\n",
    "    if (debug):\n",
    "        print('before nans: {}'.format(str(A.shape)))\n",
    "    if (np.isnan(A).any() or np.isnan(b).any()):\n",
    "        mask = ~np.isnan(np.sum(A,axis=(1,2))) & ~np.isnan(b[:])\n",
    "        A = A[mask, :, :]\n",
    "        b = b[mask]\n",
    "    \n",
    "    if (debug):\n",
    "        print('before nans: {}'.format(str(A.shape)))\n",
    "    assert A.shape[0] == b.shape[0]\n",
    "    return A, b\n",
    "\n",
    "rnn_trainval_data_X, rnn_trainval_data_Y = remove_nan_rows_A(rnn_trainval_data_X,\n",
    "                                                             rnn_trainval_data_Y)\n",
    "rnn_training_data_X, rnn_training_data_Y = remove_nan_rows_A(rnn_training_data_X, \n",
    "                                                             rnn_training_data_Y)\n",
    "rnn_validation_data_X, rnn_validation_data_Y = remove_nan_rows_A(rnn_validation_data_X,\n",
    "                                         rnn_validation_data_Y)\n",
    "rnn_test_data_X, rnn_test_data_Y = remove_nan_rows_A(rnn_test_data_X,\n",
    "                                   rnn_test_data_Y)\n",
    "\n",
    "new_axis = (0,2,1)\n",
    "rnn_trainval_data_X = np.transpose(rnn_trainval_data_X, new_axis)\n",
    "rnn_training_data_X = np.transpose(rnn_training_data_X, new_axis)\n",
    "rnn_validation_data_X = np.transpose(rnn_validation_data_X, new_axis)\n",
    "rnn_test_data_X = np.transpose(rnn_test_data_X, new_axis)\n",
    "\n",
    "# repeating the Y labels for the rnn\n",
    "N_trainval, T, E = rnn_trainval_data_X.shape\n",
    "N_training, _, _ = rnn_trainval_data_X.shape\n",
    "N_validation, _, _ = rnn_test_data_X.shape\n",
    "N_test, _, _ = rnn_test_data_X.shape"
   ]
  },
  {
   "cell_type": "code",
   "execution_count": 67,
   "metadata": {},
   "outputs": [
    {
     "name": "stdout",
     "output_type": "stream",
     "text": [
      "(200, 22, 1000)\n"
     ]
    }
   ],
   "source": [
    "training_data_shape = training_data_X[0].shape\n",
    "print(training_data_shape) #(200, 22, 1000) while test data shape is (50, 22, 1000) and validation data is (38, 22,1000)"
   ]
  },
  {
   "cell_type": "code",
   "execution_count": 68,
   "metadata": {},
   "outputs": [
    {
     "name": "stdout",
     "output_type": "stream",
     "text": [
      "[0.24211577 0.29200906 0.28058568 0.28058862 0.27744969 0.30503537\n",
      " 0.37432564 0.35469766 0.29599771 0.28391495 0.28070525 0.32476685\n",
      " 0.33706837 0.3755972  0.37135214 0.37447009 0.3089289  0.33019716\n",
      " 0.29176846 0.34339516 0.36118418 0.32799225]\n",
      "[11.27145177 10.2505745  10.92481975 11.49970902 11.21479773 10.89149331\n",
      "  8.71352886 10.06750202 10.70168511 11.33973592 10.97697775 10.88472781\n",
      " 10.10025118 10.33649046 10.64618123 11.09796571 10.98326707 11.08252466\n",
      " 10.81161869 11.24811363 11.16262363 11.35832584]\n"
     ]
    }
   ],
   "source": [
    "mean_list = np.mean(rnn_trainval_data_X.reshape(-1, rnn_trainval_data_X.shape[-1]), axis=0)\n",
    "std_list = np.sqrt((np.var(rnn_trainval_data_X.reshape(-1, rnn_trainval_data_X.shape[-1]), axis=0)))\n",
    "print(mean_list)\n",
    "print(std_list)"
   ]
  },
  {
   "cell_type": "code",
   "execution_count": 69,
   "metadata": {},
   "outputs": [],
   "source": [
    "rnn_trainval_data_X = (rnn_trainval_data_X - mean_list)/std_list\n",
    "rnn_training_data_X = (rnn_training_data_X - mean_list)/std_list\n",
    "rnn_validation_data_X = (rnn_validation_data_X - mean_list)/std_list\n",
    "rnn_test_data_X = (rnn_test_data_X - mean_list)/std_list"
   ]
  },
  {
   "cell_type": "code",
   "execution_count": 70,
   "metadata": {},
   "outputs": [
    {
     "name": "stdout",
     "output_type": "stream",
     "text": [
      "(2115, 1000, 22)\n",
      "(2115,)\n"
     ]
    }
   ],
   "source": [
    "print rnn_trainval_data_X.shape\n",
    "print rnn_trainval_data_Y.shape"
   ]
  },
  {
   "cell_type": "code",
   "execution_count": 71,
   "metadata": {},
   "outputs": [
    {
     "data": {
      "text/plain": [
       "{0.0, 1.0, 2.0, 3.0}"
      ]
     },
     "execution_count": 71,
     "metadata": {},
     "output_type": "execute_result"
    }
   ],
   "source": [
    "set(rnn_trainval_data_Y)"
   ]
  },
  {
   "cell_type": "code",
   "execution_count": 72,
   "metadata": {},
   "outputs": [],
   "source": [
    "# Useful Constants\n",
    "\n",
    "# Those are separate normalised input features for the neural network\n",
    "\n",
    "# Output classes to learn how to classify\n",
    "LABELS = [\n",
    "    \"LEFT\",\n",
    "    \"RIGHT\",\n",
    "    \"FOOT\",\n",
    "    \"TONGUE\"\n",
    "    \n",
    "] \n"
   ]
  },
  {
   "cell_type": "code",
   "execution_count": 76,
   "metadata": {},
   "outputs": [
    {
     "data": {
      "text/html": [
       "<div>\n",
       "<style scoped>\n",
       "    .dataframe tbody tr th:only-of-type {\n",
       "        vertical-align: middle;\n",
       "    }\n",
       "\n",
       "    .dataframe tbody tr th {\n",
       "        vertical-align: top;\n",
       "    }\n",
       "\n",
       "    .dataframe thead th {\n",
       "        text-align: right;\n",
       "    }\n",
       "</style>\n",
       "<table border=\"1\" class=\"dataframe\">\n",
       "  <thead>\n",
       "    <tr style=\"text-align: right;\">\n",
       "      <th></th>\n",
       "      <th>0</th>\n",
       "      <th>1</th>\n",
       "      <th>2</th>\n",
       "      <th>3</th>\n",
       "      <th>4</th>\n",
       "      <th>5</th>\n",
       "      <th>6</th>\n",
       "      <th>7</th>\n",
       "      <th>8</th>\n",
       "      <th>9</th>\n",
       "      <th>...</th>\n",
       "      <th>12</th>\n",
       "      <th>13</th>\n",
       "      <th>14</th>\n",
       "      <th>15</th>\n",
       "      <th>16</th>\n",
       "      <th>17</th>\n",
       "      <th>18</th>\n",
       "      <th>19</th>\n",
       "      <th>20</th>\n",
       "      <th>21</th>\n",
       "    </tr>\n",
       "  </thead>\n",
       "  <tbody>\n",
       "    <tr>\n",
       "      <th>count</th>\n",
       "      <td>1000.000000</td>\n",
       "      <td>1000.000000</td>\n",
       "      <td>1000.000000</td>\n",
       "      <td>1000.000000</td>\n",
       "      <td>1000.000000</td>\n",
       "      <td>1000.000000</td>\n",
       "      <td>1000.000000</td>\n",
       "      <td>1000.000000</td>\n",
       "      <td>1000.000000</td>\n",
       "      <td>1000.000000</td>\n",
       "      <td>...</td>\n",
       "      <td>1000.000000</td>\n",
       "      <td>1000.000000</td>\n",
       "      <td>1000.000000</td>\n",
       "      <td>1000.000000</td>\n",
       "      <td>1000.000000</td>\n",
       "      <td>1000.000000</td>\n",
       "      <td>1000.000000</td>\n",
       "      <td>1000.000000</td>\n",
       "      <td>1000.000000</td>\n",
       "      <td>1000.000000</td>\n",
       "    </tr>\n",
       "    <tr>\n",
       "      <th>mean</th>\n",
       "      <td>-0.019228</td>\n",
       "      <td>-0.082219</td>\n",
       "      <td>-0.075826</td>\n",
       "      <td>-0.047379</td>\n",
       "      <td>-0.050532</td>\n",
       "      <td>-0.060178</td>\n",
       "      <td>-0.063592</td>\n",
       "      <td>-0.079086</td>\n",
       "      <td>-0.051713</td>\n",
       "      <td>-0.044552</td>\n",
       "      <td>...</td>\n",
       "      <td>-0.049065</td>\n",
       "      <td>-0.060679</td>\n",
       "      <td>-0.061354</td>\n",
       "      <td>-0.056502</td>\n",
       "      <td>-0.046323</td>\n",
       "      <td>-0.063935</td>\n",
       "      <td>-0.059752</td>\n",
       "      <td>-0.086984</td>\n",
       "      <td>-0.081453</td>\n",
       "      <td>-0.055814</td>\n",
       "    </tr>\n",
       "    <tr>\n",
       "      <th>std</th>\n",
       "      <td>0.656299</td>\n",
       "      <td>0.594934</td>\n",
       "      <td>0.653857</td>\n",
       "      <td>0.670126</td>\n",
       "      <td>0.748175</td>\n",
       "      <td>0.684128</td>\n",
       "      <td>0.582003</td>\n",
       "      <td>0.595916</td>\n",
       "      <td>0.659181</td>\n",
       "      <td>0.691749</td>\n",
       "      <td>...</td>\n",
       "      <td>0.662745</td>\n",
       "      <td>0.646819</td>\n",
       "      <td>0.665252</td>\n",
       "      <td>0.665526</td>\n",
       "      <td>0.664200</td>\n",
       "      <td>0.651515</td>\n",
       "      <td>0.680298</td>\n",
       "      <td>0.660292</td>\n",
       "      <td>0.651054</td>\n",
       "      <td>0.725231</td>\n",
       "    </tr>\n",
       "    <tr>\n",
       "      <th>min</th>\n",
       "      <td>-1.658983</td>\n",
       "      <td>-1.633771</td>\n",
       "      <td>-1.791123</td>\n",
       "      <td>-1.926622</td>\n",
       "      <td>-1.992703</td>\n",
       "      <td>-2.157500</td>\n",
       "      <td>-2.228408</td>\n",
       "      <td>-1.994662</td>\n",
       "      <td>-1.975914</td>\n",
       "      <td>-1.803387</td>\n",
       "      <td>...</td>\n",
       "      <td>-2.368362</td>\n",
       "      <td>-2.147902</td>\n",
       "      <td>-2.208856</td>\n",
       "      <td>-1.837634</td>\n",
       "      <td>-2.104261</td>\n",
       "      <td>-2.179857</td>\n",
       "      <td>-2.172212</td>\n",
       "      <td>-2.166304</td>\n",
       "      <td>-2.175740</td>\n",
       "      <td>-2.100939</td>\n",
       "    </tr>\n",
       "    <tr>\n",
       "      <th>25%</th>\n",
       "      <td>-0.472010</td>\n",
       "      <td>-0.485779</td>\n",
       "      <td>-0.526264</td>\n",
       "      <td>-0.492525</td>\n",
       "      <td>-0.566800</td>\n",
       "      <td>-0.494254</td>\n",
       "      <td>-0.452030</td>\n",
       "      <td>-0.482651</td>\n",
       "      <td>-0.497613</td>\n",
       "      <td>-0.529908</td>\n",
       "      <td>...</td>\n",
       "      <td>-0.502304</td>\n",
       "      <td>-0.489827</td>\n",
       "      <td>-0.490086</td>\n",
       "      <td>-0.482515</td>\n",
       "      <td>-0.481587</td>\n",
       "      <td>-0.480294</td>\n",
       "      <td>-0.501194</td>\n",
       "      <td>-0.508040</td>\n",
       "      <td>-0.500401</td>\n",
       "      <td>-0.544743</td>\n",
       "    </tr>\n",
       "    <tr>\n",
       "      <th>50%</th>\n",
       "      <td>-0.066967</td>\n",
       "      <td>-0.128520</td>\n",
       "      <td>-0.132951</td>\n",
       "      <td>-0.088090</td>\n",
       "      <td>-0.113995</td>\n",
       "      <td>-0.106462</td>\n",
       "      <td>-0.087789</td>\n",
       "      <td>-0.107983</td>\n",
       "      <td>-0.082411</td>\n",
       "      <td>-0.076708</td>\n",
       "      <td>...</td>\n",
       "      <td>-0.069630</td>\n",
       "      <td>-0.090661</td>\n",
       "      <td>-0.096798</td>\n",
       "      <td>-0.068940</td>\n",
       "      <td>-0.061470</td>\n",
       "      <td>-0.093679</td>\n",
       "      <td>-0.106021</td>\n",
       "      <td>-0.113008</td>\n",
       "      <td>-0.106719</td>\n",
       "      <td>-0.101958</td>\n",
       "    </tr>\n",
       "    <tr>\n",
       "      <th>75%</th>\n",
       "      <td>0.390061</td>\n",
       "      <td>0.277565</td>\n",
       "      <td>0.307292</td>\n",
       "      <td>0.340759</td>\n",
       "      <td>0.368200</td>\n",
       "      <td>0.339611</td>\n",
       "      <td>0.310075</td>\n",
       "      <td>0.304273</td>\n",
       "      <td>0.347620</td>\n",
       "      <td>0.389409</td>\n",
       "      <td>...</td>\n",
       "      <td>0.359418</td>\n",
       "      <td>0.347477</td>\n",
       "      <td>0.336621</td>\n",
       "      <td>0.327036</td>\n",
       "      <td>0.345310</td>\n",
       "      <td>0.341400</td>\n",
       "      <td>0.329798</td>\n",
       "      <td>0.286364</td>\n",
       "      <td>0.286964</td>\n",
       "      <td>0.393489</td>\n",
       "    </tr>\n",
       "    <tr>\n",
       "      <th>max</th>\n",
       "      <td>3.006600</td>\n",
       "      <td>2.648573</td>\n",
       "      <td>2.950982</td>\n",
       "      <td>3.338457</td>\n",
       "      <td>3.754447</td>\n",
       "      <td>3.074328</td>\n",
       "      <td>1.839889</td>\n",
       "      <td>2.084250</td>\n",
       "      <td>2.691685</td>\n",
       "      <td>3.032174</td>\n",
       "      <td>...</td>\n",
       "      <td>2.644856</td>\n",
       "      <td>2.377555</td>\n",
       "      <td>2.643603</td>\n",
       "      <td>3.024075</td>\n",
       "      <td>2.692631</td>\n",
       "      <td>2.459520</td>\n",
       "      <td>2.529219</td>\n",
       "      <td>2.539346</td>\n",
       "      <td>2.535329</td>\n",
       "      <td>2.675121</td>\n",
       "    </tr>\n",
       "  </tbody>\n",
       "</table>\n",
       "<p>8 rows × 22 columns</p>\n",
       "</div>"
      ],
      "text/plain": [
       "                0            1            2            3            4   \\\n",
       "count  1000.000000  1000.000000  1000.000000  1000.000000  1000.000000   \n",
       "mean     -0.019228    -0.082219    -0.075826    -0.047379    -0.050532   \n",
       "std       0.656299     0.594934     0.653857     0.670126     0.748175   \n",
       "min      -1.658983    -1.633771    -1.791123    -1.926622    -1.992703   \n",
       "25%      -0.472010    -0.485779    -0.526264    -0.492525    -0.566800   \n",
       "50%      -0.066967    -0.128520    -0.132951    -0.088090    -0.113995   \n",
       "75%       0.390061     0.277565     0.307292     0.340759     0.368200   \n",
       "max       3.006600     2.648573     2.950982     3.338457     3.754447   \n",
       "\n",
       "                5            6            7            8            9   \\\n",
       "count  1000.000000  1000.000000  1000.000000  1000.000000  1000.000000   \n",
       "mean     -0.060178    -0.063592    -0.079086    -0.051713    -0.044552   \n",
       "std       0.684128     0.582003     0.595916     0.659181     0.691749   \n",
       "min      -2.157500    -2.228408    -1.994662    -1.975914    -1.803387   \n",
       "25%      -0.494254    -0.452030    -0.482651    -0.497613    -0.529908   \n",
       "50%      -0.106462    -0.087789    -0.107983    -0.082411    -0.076708   \n",
       "75%       0.339611     0.310075     0.304273     0.347620     0.389409   \n",
       "max       3.074328     1.839889     2.084250     2.691685     3.032174   \n",
       "\n",
       "          ...                12           13           14           15  \\\n",
       "count     ...       1000.000000  1000.000000  1000.000000  1000.000000   \n",
       "mean      ...         -0.049065    -0.060679    -0.061354    -0.056502   \n",
       "std       ...          0.662745     0.646819     0.665252     0.665526   \n",
       "min       ...         -2.368362    -2.147902    -2.208856    -1.837634   \n",
       "25%       ...         -0.502304    -0.489827    -0.490086    -0.482515   \n",
       "50%       ...         -0.069630    -0.090661    -0.096798    -0.068940   \n",
       "75%       ...          0.359418     0.347477     0.336621     0.327036   \n",
       "max       ...          2.644856     2.377555     2.643603     3.024075   \n",
       "\n",
       "                16           17           18           19           20  \\\n",
       "count  1000.000000  1000.000000  1000.000000  1000.000000  1000.000000   \n",
       "mean     -0.046323    -0.063935    -0.059752    -0.086984    -0.081453   \n",
       "std       0.664200     0.651515     0.680298     0.660292     0.651054   \n",
       "min      -2.104261    -2.179857    -2.172212    -2.166304    -2.175740   \n",
       "25%      -0.481587    -0.480294    -0.501194    -0.508040    -0.500401   \n",
       "50%      -0.061470    -0.093679    -0.106021    -0.113008    -0.106719   \n",
       "75%       0.345310     0.341400     0.329798     0.286364     0.286964   \n",
       "max       2.692631     2.459520     2.529219     2.539346     2.535329   \n",
       "\n",
       "                21  \n",
       "count  1000.000000  \n",
       "mean     -0.055814  \n",
       "std       0.725231  \n",
       "min      -2.100939  \n",
       "25%      -0.544743  \n",
       "50%      -0.101958  \n",
       "75%       0.393489  \n",
       "max       2.675121  \n",
       "\n",
       "[8 rows x 22 columns]"
      ]
     },
     "execution_count": 76,
     "metadata": {},
     "output_type": "execute_result"
    }
   ],
   "source": [
    "pandas.DataFrame(rnn_trainval_data_X[3]).describe()"
   ]
  },
  {
   "cell_type": "markdown",
   "metadata": {},
   "source": [
    "## Additionnal Parameters:\n",
    "\n",
    "Here are some core parameter definitions for the training. \n",
    "\n",
    "The whole neural network's structure could be summarised by enumerating those parameters and the fact an LSTM is used. "
   ]
  },
  {
   "cell_type": "code",
   "execution_count": 77,
   "metadata": {},
   "outputs": [
    {
     "name": "stdout",
     "output_type": "stream",
     "text": [
      "Some useful info to get an insight on dataset's shape and normalisation:\n",
      "(X shape, y shape, every X's mean, every X's standard deviation)\n",
      "((443, 1000, 22), (443,), 0.0016580587469994378, 0.997292271181712)\n",
      "The dataset is therefore properly normalised, as expected, but not yet one-hot encoded.\n"
     ]
    }
   ],
   "source": [
    "# Input Data \n",
    "X_train = rnn_training_data_X\n",
    "X_test = rnn_test_data_X\n",
    "X_val = rnn_validation_data_X\n",
    "y_train = rnn_training_data_Y\n",
    "y_test = rnn_test_data_Y\n",
    "y_val = rnn_validation_data_Y\n",
    "\n",
    "training_data_count = len(X_train)  # 2115 training series \n",
    "test_data_count = len(X_test)  # 443 testing series\n",
    "n_steps = len(X_train[0])  # 1000 timesteps per series\n",
    "n_input = len(X_train[0][0])  # 22 input parameters per timestep\n",
    "\n",
    "\n",
    "# LSTM Neural Network's internal structure\n",
    "\n",
    "n_hidden = 32 # Hidden layer num of features\n",
    "n_classes = 4 # Total classes (should go up, or should go down)\n",
    "\n",
    "\n",
    "# Training \n",
    "\n",
    "learning_rate = 0.0025\n",
    "dropout = 1.0\n",
    "lambda_loss_amount = 0.0015\n",
    "training_iters = training_data_count * 100  # Loop 10 times on the dataset\n",
    "batch_size = 100\n",
    "display_iter = 10000  # To show test set accuracy during training\n",
    "\n",
    "\n",
    "# Some debugging info\n",
    "\n",
    "print(\"Some useful info to get an insight on dataset's shape and normalisation:\")\n",
    "print(\"(X shape, y shape, every X's mean, every X's standard deviation)\")\n",
    "print(X_test.shape, y_test.shape, np.mean(X_test), np.std(X_test))\n",
    "print(\"The dataset is therefore properly normalised, as expected, but not yet one-hot encoded.\")\n"
   ]
  },
  {
   "cell_type": "markdown",
   "metadata": {},
   "source": [
    "## Utility functions for training:"
   ]
  },
  {
   "cell_type": "code",
   "execution_count": 78,
   "metadata": {},
   "outputs": [],
   "source": [
    "def LSTM_RNN(_X, _weights, _biases, _keep_prob):\n",
    "    # Function returns a tensorflow LSTM (RNN) artificial neural network from given parameters. \n",
    "    # Moreover, two LSTM cells are stacked which adds deepness to the neural network. \n",
    "    # Note, some code of this notebook is inspired from an slightly different \n",
    "    # RNN architecture used on another dataset, some of the credits goes to \n",
    "    # \"aymericdamien\" under the MIT license.\n",
    "\n",
    "    # (NOTE: This step could be greatly optimised by shaping the dataset once\n",
    "    # input shape: (batch_size, n_steps, n_input)\n",
    "    _X = tf.transpose(_X, [1, 0, 2])  # permute n_steps and batch_size\n",
    "    # Reshape to prepare input to hidden activation\n",
    "    _X = tf.reshape(_X, [-1, n_input]) \n",
    "    # new shape: (n_steps*batch_size, n_input)\n",
    "    \n",
    "    # Linear activation\n",
    "    _X = tf.matmul(_X, _weights['hidden']) + _biases['hidden']\n",
    "    # Dropout\n",
    "    _X = tf.nn.dropout(_X, _keep_prob)\n",
    "    #RELU\n",
    "    _X = tf.nn.relu(_X)\n",
    "    # Split data because rnn cell needs a list of inputs for the RNN inner loop\n",
    "    _X = tf.split(_X, n_steps, 0) \n",
    "    # new shape: n_steps * (batch_size, n_hidden)\n",
    "\n",
    "    # Define two stacked LSTM cells (two recurrent layers deep) with tensorflow\n",
    "    lstm_cell_1 = tf.contrib.rnn.BasicLSTMCell(n_hidden, forget_bias=1.0, state_is_tuple=True)\n",
    "    lstm_cell_2 = tf.contrib.rnn.BasicLSTMCell(n_hidden, forget_bias=1.0, state_is_tuple=True)\n",
    "    lstm_cells = tf.contrib.rnn.MultiRNNCell([lstm_cell_1, lstm_cell_2], state_is_tuple=True)\n",
    "    # Get LSTM cell output\n",
    "    outputs, states = tf.contrib.rnn.static_rnn(lstm_cells, _X, dtype=tf.float32)\n",
    "\n",
    "    # Get last time step's output feature for a \"many to one\" style classifier, \n",
    "    # as in the image describing RNNs at the top of this page\n",
    "    lstm_last_output = outputs[-1]\n",
    "    \n",
    "    # Linear activation\n",
    "    return tf.matmul(lstm_last_output, _weights['out']) + _biases['out']\n",
    "\n",
    "\n",
    "def extract_batch_size(_train, step, batch_size):\n",
    "    # Function to fetch a \"batch_size\" amount of data from \"(X|y)_train\" data. \n",
    "    \n",
    "    shape = list(_train.shape)\n",
    "    shape[0] = batch_size\n",
    "    batch_s = np.empty(shape)\n",
    "\n",
    "    for i in range(batch_size):\n",
    "        # Loop index\n",
    "        index = ((step-1)*batch_size + i) % len(_train)\n",
    "        batch_s[i] = _train[index] \n",
    "\n",
    "    return batch_s\n",
    "\n",
    "\n",
    "def one_hot(y_):\n",
    "    # Function to encode output labels from number indexes \n",
    "    # e.g.: [[5], [0], [3]] --> [[0, 0, 0, 0, 0, 1], [1, 0, 0, 0, 0, 0], [0, 0, 0, 1, 0, 0]]\n",
    "    \n",
    "    y_ = y_.reshape(len(y_))\n",
    "    n_values = int(np.max(y_)) + 1\n",
    "    return np.eye(n_values)[np.array(y_, dtype=np.int32)]  # Returns FLOATS\n"
   ]
  },
  {
   "cell_type": "code",
   "execution_count": 23,
   "metadata": {},
   "outputs": [
    {
     "data": {
      "text/plain": [
       "array([[0., 0., 0., 1.],\n",
       "       [1., 0., 0., 0.],\n",
       "       [0., 0., 0., 1.]])"
      ]
     },
     "execution_count": 23,
     "metadata": {},
     "output_type": "execute_result"
    }
   ],
   "source": [
    "one_hot(np.asarray([[3], [0], [3]]))"
   ]
  },
  {
   "cell_type": "markdown",
   "metadata": {},
   "source": [
    "## Let's get serious and build the neural network:"
   ]
  },
  {
   "cell_type": "code",
   "execution_count": 79,
   "metadata": {},
   "outputs": [],
   "source": [
    "tf.reset_default_graph()\n",
    "# Graph input/output\n",
    "x = tf.placeholder(tf.float32, [None, n_steps, n_input])\n",
    "y = tf.placeholder(tf.float32, [None, n_classes])\n",
    "keep_prob = tf.placeholder(tf.float32)\n",
    "\n",
    "# Graph weights\n",
    "weights = {\n",
    "    'hidden': tf.Variable(tf.random_normal([n_input, n_hidden])), # Hidden layer weights\n",
    "    'out': tf.Variable(tf.random_normal([n_hidden, n_classes], mean=1.0))\n",
    "}\n",
    "biases = {\n",
    "    'hidden': tf.Variable(tf.random_normal([n_hidden])),\n",
    "    'out': tf.Variable(tf.random_normal([n_classes]))\n",
    "}\n",
    "\n",
    "pred = LSTM_RNN(x, weights, biases, keep_prob)\n",
    "\n",
    "# Loss, optimizer and evaluation\n",
    "l2 = lambda_loss_amount * sum(\n",
    "    tf.nn.l2_loss(tf_var) for tf_var in tf.trainable_variables()\n",
    ") # L2 loss prevents this overkill neural network to overfit the data\n",
    "cost = tf.reduce_mean(tf.nn.softmax_cross_entropy_with_logits(labels=y, logits=pred)) + l2 # Softmax loss\n",
    "optimizer = tf.train.AdamOptimizer(learning_rate=learning_rate).minimize(cost) # Adam Optimizer\n",
    "\n",
    "correct_pred = tf.equal(tf.argmax(pred,1), tf.argmax(y,1))\n",
    "accuracy = tf.reduce_mean(tf.cast(correct_pred, tf.float32))\n"
   ]
  },
  {
   "cell_type": "markdown",
   "metadata": {},
   "source": [
    "## Hooray, now train the neural network:"
   ]
  },
  {
   "cell_type": "code",
   "execution_count": 80,
   "metadata": {
    "scrolled": false
   },
   "outputs": [
    {
     "name": "stdout",
     "output_type": "stream",
     "text": [
      "Training iter #100:   Batch Loss = 2.977999, Accuracy = 0.239999994636\n",
      "PERFORMANCE ON VALIDATION SET: Batch Loss = 2.74006271362, Accuracy = 0.229411765933\n",
      "PERFORMANCE ON TEST SET: Batch Loss = 2.62529730797, Accuracy = 0.250564336777\n",
      "Training iter #10000:   Batch Loss = 2.105486, Accuracy = 0.330000013113\n",
      "PERFORMANCE ON VALIDATION SET: Batch Loss = 2.14856958389, Accuracy = 0.241176471114\n",
      "PERFORMANCE ON TEST SET: Batch Loss = 2.16382074356, Accuracy = 0.261851012707\n",
      "Training iter #20000:   Batch Loss = 1.889123, Accuracy = 0.409999996424\n",
      "PERFORMANCE ON VALIDATION SET: Batch Loss = 2.08928704262, Accuracy = 0.264705896378\n",
      "PERFORMANCE ON TEST SET: Batch Loss = 2.12541246414, Accuracy = 0.232505649328\n",
      "Training iter #30000:   Batch Loss = 1.705281, Accuracy = 0.5\n",
      "PERFORMANCE ON VALIDATION SET: Batch Loss = 2.13747191429, Accuracy = 0.244117647409\n",
      "PERFORMANCE ON TEST SET: Batch Loss = 2.09840655327, Accuracy = 0.286681711674\n",
      "Training iter #40000:   Batch Loss = 1.559277, Accuracy = 0.540000021458\n",
      "PERFORMANCE ON VALIDATION SET: Batch Loss = 2.2321305275, Accuracy = 0.255882352591\n",
      "PERFORMANCE ON TEST SET: Batch Loss = 2.31508708, Accuracy = 0.223476290703\n",
      "Training iter #50000:   Batch Loss = 1.355610, Accuracy = 0.680000007153\n",
      "PERFORMANCE ON VALIDATION SET: Batch Loss = 2.41353702545, Accuracy = 0.255882352591\n",
      "PERFORMANCE ON TEST SET: Batch Loss = 2.43342399597, Accuracy = 0.239277645946\n",
      "Training iter #60000:   Batch Loss = 1.317483, Accuracy = 0.639999985695\n",
      "PERFORMANCE ON VALIDATION SET: Batch Loss = 2.5292904377, Accuracy = 0.258823543787\n",
      "PERFORMANCE ON TEST SET: Batch Loss = 2.58226490021, Accuracy = 0.248307004571\n",
      "Training iter #70000:   Batch Loss = 1.201427, Accuracy = 0.689999997616\n",
      "PERFORMANCE ON VALIDATION SET: Batch Loss = 3.21823835373, Accuracy = 0.241176471114\n",
      "PERFORMANCE ON TEST SET: Batch Loss = 3.11718654633, Accuracy = 0.248307004571\n",
      "Training iter #80000:   Batch Loss = 0.925870, Accuracy = 0.860000014305\n",
      "PERFORMANCE ON VALIDATION SET: Batch Loss = 2.98970413208, Accuracy = 0.28823530674\n",
      "PERFORMANCE ON TEST SET: Batch Loss = 3.06921410561, Accuracy = 0.264108359814\n",
      "Training iter #90000:   Batch Loss = 0.958899, Accuracy = 0.850000023842\n",
      "PERFORMANCE ON VALIDATION SET: Batch Loss = 3.26471543312, Accuracy = 0.279411762953\n",
      "PERFORMANCE ON TEST SET: Batch Loss = 3.36952161789, Accuracy = 0.23702031374\n",
      "Training iter #100000:   Batch Loss = 0.727580, Accuracy = 0.949999988079\n",
      "PERFORMANCE ON VALIDATION SET: Batch Loss = 3.66795349121, Accuracy = 0.244117647409\n",
      "PERFORMANCE ON TEST SET: Batch Loss = 3.47766113281, Accuracy = 0.255079001188\n",
      "Training iter #110000:   Batch Loss = 0.643763, Accuracy = 1.0\n",
      "PERFORMANCE ON VALIDATION SET: Batch Loss = 4.16794967651, Accuracy = 0.223529413342\n",
      "PERFORMANCE ON TEST SET: Batch Loss = 4.0090970993, Accuracy = 0.248307004571\n",
      "Training iter #120000:   Batch Loss = 0.611894, Accuracy = 0.97000002861\n",
      "PERFORMANCE ON VALIDATION SET: Batch Loss = 4.35317087173, Accuracy = 0.255882352591\n",
      "PERFORMANCE ON TEST SET: Batch Loss = 4.17863702774, Accuracy = 0.243792325258\n",
      "Training iter #130000:   Batch Loss = 0.582312, Accuracy = 1.0\n",
      "PERFORMANCE ON VALIDATION SET: Batch Loss = 4.26623773575, Accuracy = 0.25\n",
      "PERFORMANCE ON TEST SET: Batch Loss = 4.22350311279, Accuracy = 0.23702031374\n",
      "Training iter #140000:   Batch Loss = 0.658656, Accuracy = 0.949999988079\n",
      "PERFORMANCE ON VALIDATION SET: Batch Loss = 4.27567911148, Accuracy = 0.214705884457\n",
      "PERFORMANCE ON TEST SET: Batch Loss = 4.21386528015, Accuracy = 0.234762981534\n",
      "Training iter #150000:   Batch Loss = 0.513708, Accuracy = 1.0\n",
      "PERFORMANCE ON VALIDATION SET: Batch Loss = 4.49397182465, Accuracy = 0.25\n",
      "PERFORMANCE ON TEST SET: Batch Loss = 4.41945743561, Accuracy = 0.239277645946\n",
      "Training iter #160000:   Batch Loss = 0.479078, Accuracy = 1.0\n",
      "PERFORMANCE ON VALIDATION SET: Batch Loss = 4.63206243515, Accuracy = 0.247058823705\n",
      "PERFORMANCE ON TEST SET: Batch Loss = 4.56076383591, Accuracy = 0.248307004571\n",
      "Training iter #170000:   Batch Loss = 0.452318, Accuracy = 1.0\n",
      "PERFORMANCE ON VALIDATION SET: Batch Loss = 4.69627857208, Accuracy = 0.241176471114\n",
      "PERFORMANCE ON TEST SET: Batch Loss = 4.61222362518, Accuracy = 0.248307004571\n",
      "Optimization Finished!\n"
     ]
    },
    {
     "data": {
      "text/plain": [
       "'./Checkpoints/final/finalmodel.ckpt'"
      ]
     },
     "execution_count": 80,
     "metadata": {},
     "output_type": "execute_result"
    }
   ],
   "source": [
    "# To keep track of training's performance\n",
    "test_losses = []\n",
    "test_accuracies = []\n",
    "test_cross_losses = []\n",
    "test_cross_accuracies = []\n",
    "train_losses = []\n",
    "train_accuracies = []\n",
    "\n",
    "# Launch the graph\n",
    "saver = tf.train.Saver()\n",
    "sess = tf.InteractiveSession(config=tf.ConfigProto(log_device_placement=True))\n",
    "init = tf.global_variables_initializer()\n",
    "sess.run(init)\n",
    "saver.save(sess, './Checkpoints/mytestmodel.ckpt')\n",
    "\n",
    "# Perform Training steps with \"batch_size\" amount of example data at each loop\n",
    "step = 1\n",
    "while step * batch_size <= training_iters:\n",
    "    batch_xs =         extract_batch_size(X_train, step, batch_size)\n",
    "    batch_ys = one_hot(extract_batch_size(y_train, step, batch_size))\n",
    "\n",
    "    # Fit training using batch data\n",
    "    _, loss, acc = sess.run(\n",
    "        [optimizer, cost, accuracy],\n",
    "        feed_dict={\n",
    "            x: batch_xs, \n",
    "            y: batch_ys,\n",
    "            keep_prob : dropout\n",
    "        }\n",
    "    )\n",
    "    train_losses.append(loss)\n",
    "    train_accuracies.append(acc)\n",
    "    \n",
    "    # Evaluate network only at some steps for faster training: \n",
    "    if (step*batch_size % display_iter == 0) or (step == 1) or (step * batch_size > training_iters):\n",
    "        saver.save(sess, './Checkpoints/mytestmodel.ckpt', global_step=step,write_meta_graph=False)\n",
    "        \n",
    "        # To not spam console, show training accuracy/loss in this \"if\"\n",
    "        print(\"Training iter #\" + str(step*batch_size) + \\\n",
    "              \":   Batch Loss = \" + \"{:.6f}\".format(loss) + \\\n",
    "              \", Accuracy = {}\".format(acc))\n",
    "        \n",
    "        # Evaluation on the test set (no learning made here - just evaluation for diagnosis)\n",
    "        loss, acc = sess.run(\n",
    "            [cost, accuracy], \n",
    "            feed_dict={\n",
    "                x: X_val,\n",
    "                y: one_hot(y_val),\n",
    "                keep_prob : 1.0\n",
    "            }\n",
    "        )\n",
    "        test_losses.append(loss)\n",
    "        test_accuracies.append(acc)\n",
    "        print(\"PERFORMANCE ON VALIDATION SET: \" + \\\n",
    "              \"Batch Loss = {}\".format(loss) + \\\n",
    "              \", Accuracy = {}\".format(acc))\n",
    "        \n",
    "        # Evaluation on the cross test set (no learning made here - just evaluation for diagnosis)\n",
    "        loss_c, acc_c = sess.run(\n",
    "            [cost, accuracy], \n",
    "            feed_dict={\n",
    "                x: X_test,\n",
    "                y: one_hot(y_test),\n",
    "                keep_prob : 1.0\n",
    "            }\n",
    "        )\n",
    "        test_cross_losses.append(loss_c)\n",
    "        test_cross_accuracies.append(acc_c)\n",
    "        print(\"PERFORMANCE ON TEST SET: \" + \\\n",
    "              \"Batch Loss = {}\".format(loss_c) + \\\n",
    "              \", Accuracy = {}\".format(acc_c))\n",
    "\n",
    "    step += 1\n",
    "\n",
    "print(\"Optimization Finished!\")\n",
    "saver.save(sess, './Checkpoints/final/finalmodel.ckpt')"
   ]
  },
  {
   "cell_type": "code",
   "execution_count": 81,
   "metadata": {},
   "outputs": [
    {
     "name": "stdout",
     "output_type": "stream",
     "text": [
      "INFO:tensorflow:Restoring parameters from ./Checkpoints/final/finalmodel.ckpt\n",
      "FINAL RESULT: Batch Loss = 4.73697471619, Accuracy = 0.244117647409\n"
     ]
    }
   ],
   "source": [
    "# Accuracy for test data\n",
    "sess = tf.Session()\n",
    "saver.restore(sess, \"./Checkpoints/final/finalmodel.ckpt\")\n",
    "one_hot_predictions, acc, final_loss = sess.run(\n",
    "    [pred, accuracy, cost],\n",
    "    feed_dict={\n",
    "        x: X_val,\n",
    "        y: one_hot(y_val),\n",
    "        keep_prob : 1.0\n",
    "    }\n",
    ")\n",
    "\n",
    "test_losses.append(final_loss)\n",
    "test_accuracies.append(acc)\n",
    "\n",
    "print(\"FINAL RESULT: \" + \\\n",
    "      \"Batch Loss = {}\".format(final_loss) + \\\n",
    "      \", Accuracy = {}\".format(acc))"
   ]
  },
  {
   "cell_type": "code",
   "execution_count": 83,
   "metadata": {},
   "outputs": [
    {
     "name": "stdout",
     "output_type": "stream",
     "text": [
      "FINAL RESULT Cross Data: Batch Loss = 4.64937353134, Accuracy = 0.250564336777\n"
     ]
    }
   ],
   "source": [
    "# Accuracy for cross test data\n",
    "one_hot_predictions_c, accuracy_c, final_loss_c = sess.run(\n",
    "    [pred, accuracy, cost],\n",
    "    feed_dict={\n",
    "        x: X_test,\n",
    "        y: one_hot(y_test),\n",
    "        keep_prob : 1.0\n",
    "    }\n",
    ")\n",
    "\n",
    "print(\"FINAL RESULT Cross Data: \" + \\\n",
    "      \"Batch Loss = {}\".format(final_loss_c) + \\\n",
    "      \", Accuracy = {}\".format(accuracy_c))"
   ]
  },
  {
   "cell_type": "markdown",
   "metadata": {},
   "source": [
    "## Training is good, but having visual insight is even better:\n",
    "\n",
    "Okay, let's plot this simply in the notebook for now."
   ]
  },
  {
   "cell_type": "code",
   "execution_count": 84,
   "metadata": {},
   "outputs": [
    {
     "data": {
      "image/png": "[encoded data removed]",
      "text/plain": [
       "<Figure size 864x864 with 1 Axes>"
      ]
     },
     "metadata": {},
     "output_type": "display_data"
    }
   ],
   "source": [
    "# (Inline plots: )\n",
    "%matplotlib inline\n",
    "\n",
    "font = {\n",
    "    'family' : 'Bitstream Vera Sans',\n",
    "    'weight' : 'bold',\n",
    "    'size'   : 18\n",
    "}\n",
    "matplotlib.rc('font', **font)\n",
    "\n",
    "width = 12\n",
    "height = 12\n",
    "plt.figure(figsize=(width, height))\n",
    "\n",
    "indep_train_axis = np.array(range(batch_size, (len(train_losses)+1)*batch_size, batch_size))\n",
    "plt.plot(indep_train_axis, np.array(train_losses),     \"b--\", label=\"Train losses\")\n",
    "plt.plot(indep_train_axis, np.array(train_accuracies), \"b-\", label=\"Train accuracies\")\n",
    "\n",
    "indep_test_axis = np.append(\n",
    "    np.array(range(batch_size, len(test_losses)*display_iter, display_iter)[:-1]),\n",
    "    [training_iters]\n",
    ")\n",
    "plt.plot(indep_test_axis, np.array(test_losses),     \"g--\", label=\"Test losses\")\n",
    "plt.plot(indep_test_axis, np.array(test_accuracies), \"g-\", label=\"Test accuracies\")\n",
    "\n",
    "indep_test_c_axis = np.append(\n",
    "   np.array(range(batch_size, len(test_cross_losses)*display_iter, display_iter)[:-1]),\n",
    "   [training_iters]\n",
    ")\n",
    "plt.plot(indep_test_c_axis, np.array(test_cross_losses),     \"r--\", label=\"Test cross losses\")\n",
    "plt.plot(indep_test_c_axis, np.array(test_cross_accuracies), \"r-\", label=\"Test cross accuracies\")\n",
    "\n",
    "plt.title(\"Training session's progress over iterations\")\n",
    "plt.legend(loc='upper right', shadow=True)\n",
    "plt.ylabel('Training Progress (Loss or Accuracy values)')\n",
    "plt.xlabel('Training iteration')\n",
    "\n",
    "plt.show()"
   ]
  },
  {
   "cell_type": "markdown",
   "metadata": {},
   "source": [
    "## And finally, the multi-class confusion matrix and metrics!"
   ]
  },
  {
   "cell_type": "code",
   "execution_count": 86,
   "metadata": {},
   "outputs": [
    {
     "name": "stdout",
     "output_type": "stream",
     "text": [
      "Testing Accuracy: Tensor(\"mul_2:0\", shape=(), dtype=float32)%\n",
      "\n",
      "Precision: 25.2777529142%\n",
      "Recall: 25.0564334086%\n",
      "f1_score: 24.9054551916%\n",
      "\n",
      "Confusion Matrix:\n",
      "[[25 30 36 19]\n",
      " [40 25 26 30]\n",
      " [20 17 31 22]\n",
      " [28 32 32 30]]\n",
      "\n",
      "Confusion matrix (normalised to % of total test data):\n",
      "[[5.643341  6.7720094 8.1264105 4.288939 ]\n",
      " [9.0293455 5.643341  5.8690743 6.7720094]\n",
      " [4.5146728 3.8374717 6.9977427 4.96614  ]\n",
      " [6.3205423 7.2234764 7.2234764 6.7720094]]\n",
      "Note: training and testing data is not equally distributed amongst classes, \n",
      "so it is normal that more than a 4th of the data is correctly classifier in the last category.\n"
     ]
    },
    {
     "data": {
      "image/png": "[encoded data removed]",
      "text/plain": [
       "<Figure size 864x864 with 2 Axes>"
      ]
     },
     "metadata": {},
     "output_type": "display_data"
    }
   ],
   "source": [
    "# Results\n",
    "\n",
    "predictions = one_hot_predictions_c.argmax(1)\n",
    "\n",
    "print(\"Testing Accuracy: {}%\".format(100*accuracy))\n",
    "\n",
    "print(\"\")\n",
    "print(\"Precision: {}%\".format(100*metrics.precision_score(y_test, predictions, average=\"weighted\")))\n",
    "print(\"Recall: {}%\".format(100*metrics.recall_score(y_test, predictions, average=\"weighted\")))\n",
    "print(\"f1_score: {}%\".format(100*metrics.f1_score(y_test, predictions, average=\"weighted\")))\n",
    "\n",
    "print(\"\")\n",
    "print(\"Confusion Matrix:\")\n",
    "confusion_matrix = metrics.confusion_matrix(y_test, predictions)\n",
    "print(confusion_matrix)\n",
    "normalised_confusion_matrix = np.array(confusion_matrix, dtype=np.float32)/np.sum(confusion_matrix)*100\n",
    "\n",
    "print(\"\")\n",
    "print(\"Confusion matrix (normalised to % of total test data):\")\n",
    "print(normalised_confusion_matrix)\n",
    "print(\"Note: training and testing data is not equally distributed amongst classes, \")\n",
    "print(\"so it is normal that more than a 4th of the data is correctly classifier in the last category.\")\n",
    "\n",
    "# Plot Results: \n",
    "width = 12\n",
    "height = 12\n",
    "plt.figure(figsize=(width, height))\n",
    "plt.imshow(\n",
    "    normalised_confusion_matrix, \n",
    "    interpolation='nearest', \n",
    "    cmap=plt.cm.rainbow\n",
    ")\n",
    "plt.title(\"Confusion matrix on same person \\n(normalised to % of total test data)\")\n",
    "plt.colorbar()\n",
    "tick_marks = np.arange(n_classes)\n",
    "plt.xticks(tick_marks, LABELS, rotation=90)\n",
    "plt.yticks(tick_marks, LABELS)\n",
    "plt.tight_layout()\n",
    "plt.ylabel('True label')\n",
    "plt.xlabel('Predicted label')\n",
    "plt.show()"
   ]
  },
  {
   "cell_type": "code",
   "execution_count": 88,
   "metadata": {},
   "outputs": [
    {
     "name": "stdout",
     "output_type": "stream",
     "text": [
      "Testing Accuracy: Tensor(\"mul_4:0\", shape=(), dtype=float32)%\n",
      "\n",
      "Precision: 24.5264466546%\n",
      "Recall: 24.4117647059%\n",
      "f1_score: 24.3234151633%\n",
      "\n",
      "Confusion Matrix:\n",
      "[[19 16 31 21]\n",
      " [21 18 30 19]\n",
      " [20 19 24 22]\n",
      " [12 26 20 22]]\n",
      "\n",
      "Confusion matrix (normalised to % of total test data):\n",
      "[[5.5882354 4.7058825 9.117647  6.1764708]\n",
      " [6.1764708 5.294118  8.823529  5.5882354]\n",
      " [5.882353  5.5882354 7.058824  6.4705887]\n",
      " [3.529412  7.647059  5.882353  6.4705887]]\n",
      "Note: training and testing data is not equally distributed amongst classes, \n",
      "so it is normal that more than a 4th of the data is correctly classifier in the last category.\n"
     ]
    },
    {
     "data": {
      "image/png": "[encoded data removed]",
      "text/plain": [
       "<Figure size 864x864 with 2 Axes>"
      ]
     },
     "metadata": {},
     "output_type": "display_data"
    }
   ],
   "source": [
    "# Results\n",
    "\n",
    "predictions = one_hot_predictions.argmax(1)\n",
    "Y_c = y_val\n",
    "print(\"Testing Accuracy: {}%\".format(100*accuracy))\n",
    "\n",
    "print(\"\")\n",
    "print(\"Precision: {}%\".format(100*metrics.precision_score(Y_c, predictions, average=\"weighted\")))\n",
    "print(\"Recall: {}%\".format(100*metrics.recall_score(Y_c, predictions, average=\"weighted\")))\n",
    "print(\"f1_score: {}%\".format(100*metrics.f1_score(Y_c, predictions, average=\"weighted\")))\n",
    "\n",
    "print(\"\")\n",
    "print(\"Confusion Matrix:\")\n",
    "confusion_matrix = metrics.confusion_matrix(Y_c, predictions)\n",
    "print(confusion_matrix)\n",
    "normalised_confusion_matrix = np.array(confusion_matrix, dtype=np.float32)/np.sum(confusion_matrix)*100\n",
    "\n",
    "print(\"\")\n",
    "print(\"Confusion matrix (normalised to % of total test data):\")\n",
    "print(normalised_confusion_matrix)\n",
    "print(\"Note: training and testing data is not equally distributed amongst classes, \")\n",
    "print(\"so it is normal that more than a 4th of the data is correctly classifier in the last category.\")\n",
    "\n",
    "# Plot Results: \n",
    "width = 12\n",
    "height = 12\n",
    "plt.figure(figsize=(width, height))\n",
    "plt.imshow(\n",
    "    normalised_confusion_matrix, \n",
    "    interpolation='nearest', \n",
    "    cmap=plt.cm.rainbow\n",
    ")\n",
    "plt.title(\"Confusion matrix on cross person \\n(normalised to % of total test data)\")\n",
    "plt.colorbar()\n",
    "tick_marks = np.arange(n_classes)\n",
    "plt.xticks(tick_marks, LABELS, rotation=90)\n",
    "plt.yticks(tick_marks, LABELS)\n",
    "plt.tight_layout()\n",
    "plt.ylabel('True label')\n",
    "plt.xlabel('Predicted label')\n",
    "plt.show()"
   ]
  },
  {
   "cell_type": "code",
   "execution_count": 38,
   "metadata": {},
   "outputs": [],
   "source": [
    "sess.close()"
   ]
  },
  {
   "cell_type": "markdown",
   "metadata": {},
   "source": [
    "## Conclusion\n",
    "\n",
    "Outstandingly, **the final accuracy is of 93.6%**! And it can peak to values such as 95.6%, at some moments of luck during the training, depending on how the neural network's weights got initialized at the start of the training, randomly. \n",
    "\n",
    "This means that the neural networks is almost always able to correctly identify the movement type!\n",
    "\n",
    "I specially did not expect such good results for guessing between \"WALKING\" and \"STANDING\". Those are seemingly almost the same thing from the point of view of a device placed at wrist level according to how the dataset was gathered. Thought, it is still possible to see a little cluster on the matrix between those classes, which drifts away from the identity. This is great.\n",
    "\n",
    "## References\n",
    "\n",
    "The code is based on the following repository: \n",
    "> Guillaume Chevalier, LSTMs for Human Activity Recognition, 2016\n",
    "> https://github.com/guillaume-chevalier/LSTM-Human-Activity-Recognition\n"
   ]
  },
  {
   "cell_type": "code",
   "execution_count": 46,
   "metadata": {},
   "outputs": [
    {
     "name": "stdout",
     "output_type": "stream",
     "text": [
      "[NbConvertApp] Converting notebook LSTM.ipynb to markdown\n",
      "[NbConvertApp] Support files will be in LSTM_files/\n",
      "[NbConvertApp] Making directory LSTM_files\n",
      "[NbConvertApp] Making directory LSTM_files\n",
      "[NbConvertApp] Making directory LSTM_files\n",
      "[NbConvertApp] Writing 48861 bytes to LSTM.md\n"
     ]
    }
   ],
   "source": [
    "# Let's convert this notebook to a README for the GitHub project's title page:\n",
    "!jupyter nbconvert --to markdown LSTM.ipynb\n",
    "!mv LSTM.md README.md"
   ]
  }
 ],
 "metadata": {
  "hide_input": false,
  "kernelspec": {
   "display_name": "Python 2",
   "language": "python",
   "name": "python2"
  },
  "language_info": {
   "codemirror_mode": {
    "name": "ipython",
    "version": 2
   },
   "file_extension": ".py",
   "mimetype": "text/x-python",
   "name": "python",
   "nbconvert_exporter": "python",
   "pygments_lexer": "ipython2",
   "version": "2.7.12"
  }
 },
 "nbformat": 4,
 "nbformat_minor": 2
}
